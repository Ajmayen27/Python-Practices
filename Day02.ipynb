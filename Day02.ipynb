{
 "cells": [
  {
   "cell_type": "markdown",
   "id": "00a4fdb4-8bc1-4774-ad0d-3a40d01655de",
   "metadata": {
    "scrolled": true
   },
   "source": [
    "This is Comment"
   ]
  },
  {
   "cell_type": "code",
   "execution_count": 1,
   "id": "3ddb5b27-a05f-4151-8798-497f885aabd3",
   "metadata": {},
   "outputs": [
    {
     "name": "stdout",
     "output_type": "stream",
     "text": [
      "hello\n"
     ]
    }
   ],
   "source": [
    "print('hello')"
   ]
  },
  {
   "cell_type": "code",
   "execution_count": 14,
   "id": "a9e98ab9-a2af-4e84-b4cc-361fcd20931c",
   "metadata": {},
   "outputs": [
    {
     "name": "stdout",
     "output_type": "stream",
     "text": [
      "Hello world$Welcome to Ajmayens Kingdom."
     ]
    }
   ],
   "source": [
    "print('Hello world','Welcome to Ajmayens Kingdom',sep='$',end='.')"
   ]
  },
  {
   "cell_type": "code",
   "execution_count": 18,
   "id": "1423261e-e3cb-49c2-89c9-9f2fa2746c48",
   "metadata": {},
   "outputs": [
    {
     "name": "stdout",
     "output_type": "stream",
     "text": [
      "Hello world\n"
     ]
    }
   ],
   "source": [
    "var = 'Hello world'\n",
    "print(var)"
   ]
  },
  {
   "cell_type": "code",
   "execution_count": 20,
   "id": "7d95ac82-671b-4ed4-a3a7-853d449dff61",
   "metadata": {},
   "outputs": [
    {
     "name": "stdout",
     "output_type": "stream",
     "text": [
      "Welcome to the Hello world\n"
     ]
    }
   ],
   "source": [
    "print('Welcome to the '+var)"
   ]
  },
  {
   "cell_type": "code",
   "execution_count": 22,
   "id": "6b49b61c-d6bd-4300-a167-2f3afb9159e1",
   "metadata": {},
   "outputs": [
    {
     "data": {
      "text/plain": [
       "2575678820144"
      ]
     },
     "execution_count": 22,
     "metadata": {},
     "output_type": "execute_result"
    }
   ],
   "source": [
    "id(var) #used for refering the memory location of the value "
   ]
  },
  {
   "cell_type": "code",
   "execution_count": 26,
   "id": "27e72a0c-55b2-48f8-bb75-cfc0c4e1058d",
   "metadata": {},
   "outputs": [
    {
     "data": {
      "text/plain": [
       "52"
      ]
     },
     "execution_count": 26,
     "metadata": {},
     "output_type": "execute_result"
    }
   ],
   "source": [
    "import sys\n",
    "sys.getsizeof(var) #to know the size of the variable\n"
   ]
  },
  {
   "cell_type": "code",
   "execution_count": 32,
   "id": "cc129150-4386-45b2-8604-bf3225300835",
   "metadata": {},
   "outputs": [],
   "source": [
    "x = 100"
   ]
  },
  {
   "cell_type": "code",
   "execution_count": 34,
   "id": "be78b726-82b0-4e1b-baad-a3f2cb3db1ee",
   "metadata": {},
   "outputs": [
    {
     "data": {
      "text/plain": [
       "100"
      ]
     },
     "execution_count": 34,
     "metadata": {},
     "output_type": "execute_result"
    }
   ],
   "source": [
    "x"
   ]
  },
  {
   "cell_type": "code",
   "execution_count": 36,
   "id": "1c9ee426-e5f6-4cb0-908b-741ec5ec3b64",
   "metadata": {},
   "outputs": [],
   "source": [
    "y = 100"
   ]
  },
  {
   "cell_type": "code",
   "execution_count": 38,
   "id": "45ec5392-20fe-4b7d-bda5-1a5f3701c375",
   "metadata": {},
   "outputs": [
    {
     "data": {
      "text/plain": [
       "100"
      ]
     },
     "execution_count": 38,
     "metadata": {},
     "output_type": "execute_result"
    }
   ],
   "source": [
    "y"
   ]
  },
  {
   "cell_type": "code",
   "execution_count": 40,
   "id": "c10b9f52-47fd-4003-becb-cd2816f849bc",
   "metadata": {},
   "outputs": [
    {
     "data": {
      "text/plain": [
       "140718197323288"
      ]
     },
     "execution_count": 40,
     "metadata": {},
     "output_type": "execute_result"
    }
   ],
   "source": [
    "id(x)"
   ]
  },
  {
   "cell_type": "code",
   "execution_count": 44,
   "id": "7020ed52-a366-46a7-a6bd-6dbdf1f4e91b",
   "metadata": {},
   "outputs": [
    {
     "data": {
      "text/plain": [
       "140718197323288"
      ]
     },
     "execution_count": 44,
     "metadata": {},
     "output_type": "execute_result"
    }
   ],
   "source": [
    "id(y) #because when x is storing 100 ,y also used the same storage location while storing the same data"
   ]
  },
  {
   "cell_type": "code",
   "execution_count": 46,
   "id": "d87615de-12f5-4fdf-9566-9200f0900621",
   "metadata": {},
   "outputs": [
    {
     "data": {
      "text/plain": [
       "2575692727280"
      ]
     },
     "execution_count": 46,
     "metadata": {},
     "output_type": "execute_result"
    }
   ],
   "source": [
    "x = 1000\n",
    "y = 1000\n",
    "id(x)"
   ]
  },
  {
   "cell_type": "code",
   "execution_count": 48,
   "id": "b942965b-8eb0-4b95-824d-9aef1c9739b7",
   "metadata": {},
   "outputs": [
    {
     "data": {
      "text/plain": [
       "2575692727504"
      ]
     },
     "execution_count": 48,
     "metadata": {},
     "output_type": "execute_result"
    }
   ],
   "source": [
    "id(y)"
   ]
  },
  {
   "cell_type": "code",
   "execution_count": 50,
   "id": "a3cdcfac-64ca-4e54-80be-8dafc71f7d8d",
   "metadata": {},
   "outputs": [],
   "source": [
    "x,y,z = 10,220,1000"
   ]
  },
  {
   "cell_type": "code",
   "execution_count": 52,
   "id": "61c49f4b-2b36-480a-b450-8d35f96816d3",
   "metadata": {},
   "outputs": [
    {
     "data": {
      "text/plain": [
       "10"
      ]
     },
     "execution_count": 52,
     "metadata": {},
     "output_type": "execute_result"
    }
   ],
   "source": [
    "x"
   ]
  },
  {
   "cell_type": "code",
   "execution_count": 56,
   "id": "95810526-1d0d-4d45-8225-3898c017919c",
   "metadata": {},
   "outputs": [
    {
     "data": {
      "text/plain": [
       "220"
      ]
     },
     "execution_count": 56,
     "metadata": {},
     "output_type": "execute_result"
    }
   ],
   "source": [
    "y"
   ]
  },
  {
   "cell_type": "code",
   "execution_count": 58,
   "id": "d52b562d-ee3b-430a-8c4b-f5e66f579937",
   "metadata": {},
   "outputs": [
    {
     "data": {
      "text/plain": [
       "1000"
      ]
     },
     "execution_count": 58,
     "metadata": {},
     "output_type": "execute_result"
    }
   ],
   "source": [
    "z"
   ]
  },
  {
   "cell_type": "code",
   "execution_count": 62,
   "id": "1bc6b289-4158-4492-a4dd-a73a3b106e55",
   "metadata": {},
   "outputs": [
    {
     "name": "stdout",
     "output_type": "stream",
     "text": [
      "My Number is  1000\n"
     ]
    }
   ],
   "source": [
    "a = 1000\n",
    "def local_or_global():\n",
    "    print('My Number is ',a)\n",
    "local_or_global()"
   ]
  },
  {
   "cell_type": "code",
   "execution_count": 66,
   "id": "ceae9aaa-96a5-490a-9af9-59256cee9d2a",
   "metadata": {},
   "outputs": [
    {
     "name": "stdout",
     "output_type": "stream",
     "text": [
      "My Number is  100\n"
     ]
    }
   ],
   "source": [
    "a = 1000\n",
    "def local_or_global():\n",
    "    a = 100\n",
    "    print('My Number is ',a)\n",
    "local_or_global()"
   ]
  },
  {
   "cell_type": "code",
   "execution_count": 68,
   "id": "990a19e9-1447-4d2e-8de9-206e2c252e29",
   "metadata": {},
   "outputs": [
    {
     "name": "stdout",
     "output_type": "stream",
     "text": [
      "222\n"
     ]
    }
   ],
   "source": [
    "x = 222\n",
    "def func1():\n",
    "    global x\n",
    "    print(x)\n",
    "func1()"
   ]
  },
  {
   "cell_type": "code",
   "execution_count": null,
   "id": "71a0a572-a7d0-411f-9f3a-1a12d6d82173",
   "metadata": {},
   "outputs": [],
   "source": []
  }
 ],
 "metadata": {
  "kernelspec": {
   "display_name": "Python [conda env:base] *",
   "language": "python",
   "name": "conda-base-py"
  },
  "language_info": {
   "codemirror_mode": {
    "name": "ipython",
    "version": 3
   },
   "file_extension": ".py",
   "mimetype": "text/x-python",
   "name": "python",
   "nbconvert_exporter": "python",
   "pygments_lexer": "ipython3",
   "version": "3.12.7"
  }
 },
 "nbformat": 4,
 "nbformat_minor": 5
}
