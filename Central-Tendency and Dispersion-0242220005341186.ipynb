{
 "cells": [
  {
   "cell_type": "code",
   "execution_count": 6,
   "id": "4e5ce75f-2149-4aad-bda3-464ec4693253",
   "metadata": {},
   "outputs": [],
   "source": [
    "import numpy as np\n",
    "import statistics as stat\n"
   ]
  },
  {
   "cell_type": "code",
   "execution_count": 53,
   "id": "6452dadf-101e-4b30-8885-61d51370ddf7",
   "metadata": {},
   "outputs": [
    {
     "name": "stdout",
     "output_type": "stream",
     "text": [
      "Central Tendency of the Data:\n",
      "Mean : 505.83\n",
      "Median: 511.0\n",
      "Mode: 929\n",
      "\n",
      "Dispersion of the Data:\n",
      "Variance: 77060.8411\n",
      "Standard Deviation: 278.9968340937643\n"
     ]
    }
   ],
   "source": [
    "\n",
    "All_Data = np.random.randint(1,1000,size=100)\n",
    "\n",
    "\n",
    "print(\"Central Tendency of the Data:\")\n",
    "print(\"Mean :\",np.mean(All_Data))\n",
    "print(\"Median:\",np.median(All_Data))\n",
    "print(\"Mode:\",stat.mode(All_Data))\n",
    "print('')\n",
    "\n",
    "\n",
    "print(\"Dispersion of the Data:\")\n",
    "print(\"Variance:\",np.var(All_Data,ddof=0))\n",
    "print(\"Standard Deviation:\",np.std(All_Data,ddof=1))"
   ]
  },
  {
   "cell_type": "code",
   "execution_count": null,
   "id": "a12ea746-96d8-4fba-94ce-d8c91f099d28",
   "metadata": {},
   "outputs": [],
   "source": []
  },
  {
   "cell_type": "code",
   "execution_count": null,
   "id": "41b63ca3-0fad-463d-a272-296814f3af8a",
   "metadata": {},
   "outputs": [],
   "source": []
  }
 ],
 "metadata": {
  "kernelspec": {
   "display_name": "Python [conda env:base] *",
   "language": "python",
   "name": "conda-base-py"
  },
  "language_info": {
   "codemirror_mode": {
    "name": "ipython",
    "version": 3
   },
   "file_extension": ".py",
   "mimetype": "text/x-python",
   "name": "python",
   "nbconvert_exporter": "python",
   "pygments_lexer": "ipython3",
   "version": "3.12.7"
  }
 },
 "nbformat": 4,
 "nbformat_minor": 5
}
