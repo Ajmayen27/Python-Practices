{
 "cells": [
  {
   "cell_type": "markdown",
   "id": "25fef415-e3b2-4898-83a2-341067e78ba2",
   "metadata": {},
   "source": [
    "List Comprehension"
   ]
  },
  {
   "cell_type": "code",
   "execution_count": 3,
   "id": "c277a83f-4387-4aef-82b3-ef51f211d5e2",
   "metadata": {},
   "outputs": [
    {
     "name": "stdout",
     "output_type": "stream",
     "text": [
      "[0, 1, 4, 9, 16, 25, 36, 49, 64, 81]\n"
     ]
    }
   ],
   "source": [
    "square = [x**2 for x in range(10)]\n",
    "print(square)"
   ]
  },
  {
   "cell_type": "code",
   "execution_count": 5,
   "id": "92250c86-c32e-447a-8a53-cd1a66c4012d",
   "metadata": {},
   "outputs": [
    {
     "name": "stdout",
     "output_type": "stream",
     "text": [
      "[0, 2, 4, 6, 8]\n"
     ]
    }
   ],
   "source": [
    "evens = [x for x in range(10) if x % 2 == 0]\n",
    "print(evens)"
   ]
  },
  {
   "cell_type": "code",
   "execution_count": 7,
   "id": "d6bb05f4-f075-40c8-9f2d-e47c96d6c95f",
   "metadata": {},
   "outputs": [
    {
     "name": "stdout",
     "output_type": "stream",
     "text": [
      "[0, 1, 8, 27, 64, 125, 216, 343, 512, 729, 1000, 1331, 1728, 2197, 2744, 3375, 4096, 4913, 5832, 6859, 8000, 9261, 10648, 12167, 13824, 15625, 17576, 19683, 21952, 24389]\n"
     ]
    }
   ],
   "source": [
    "qube = [x**3 for x in range(30)]\n",
    "print(qube)"
   ]
  },
  {
   "cell_type": "code",
   "execution_count": 21,
   "id": "2beb74c9-3a95-4265-a814-9f7191800abf",
   "metadata": {},
   "outputs": [
    {
     "data": {
      "text/plain": [
       "['I', 'u', 'so', 'much', 'data', 'science']"
      ]
     },
     "execution_count": 21,
     "metadata": {},
     "output_type": "execute_result"
    }
   ],
   "source": [
    "data = 'I love u so much data science'\n",
    "data = data.split()\n",
    "[x for x in data if x != 'love']"
   ]
  },
  {
   "cell_type": "code",
   "execution_count": 27,
   "id": "79818179-1e14-48aa-8610-1ba63f75ea65",
   "metadata": {},
   "outputs": [
    {
     "name": "stdout",
     "output_type": "stream",
     "text": [
      "[[0, 1, 2, 3, 4], [0, 1, 2, 3, 4], [0, 1, 2, 3, 4], [0, 1, 2, 3, 4]] "
     ]
    }
   ],
   "source": [
    "matrix = [[j for j in range(5)] for i in range(4)]\n",
    "print(matrix,end=' ')"
   ]
  },
  {
   "cell_type": "code",
   "execution_count": 29,
   "id": "9c9abc86-f13c-42a4-9fcc-655ea46fdb67",
   "metadata": {},
   "outputs": [
    {
     "name": "stdout",
     "output_type": "stream",
     "text": [
      "[5, 2, 3, 3, 3, 9]\n"
     ]
    }
   ],
   "source": [
    "words = ['Hello','Hi','Bye','see','you','tommorrow']\n",
    "length = [len(word) for word in words]\n",
    "print(length)"
   ]
  },
  {
   "cell_type": "code",
   "execution_count": 41,
   "id": "7b9d4193-0038-4019-b6f1-78dda3bc1aa1",
   "metadata": {},
   "outputs": [],
   "source": [
    "angle = [[x for x in range(5)] for y in range(4)]"
   ]
  },
  {
   "cell_type": "code",
   "execution_count": 43,
   "id": "83108d28-6bea-4485-af58-f6724506beb4",
   "metadata": {},
   "outputs": [
    {
     "name": "stdout",
     "output_type": "stream",
     "text": [
      "[[0, 1, 2, 3, 4], [0, 1, 2, 3, 4], [0, 1, 2, 3, 4], [0, 1, 2, 3, 4]]\n"
     ]
    }
   ],
   "source": [
    "print(angle)"
   ]
  },
  {
   "cell_type": "code",
   "execution_count": null,
   "id": "99ef0744-7935-4495-b1d7-dd7758610d1c",
   "metadata": {},
   "outputs": [],
   "source": []
  }
 ],
 "metadata": {
  "kernelspec": {
   "display_name": "Python [conda env:base] *",
   "language": "python",
   "name": "conda-base-py"
  },
  "language_info": {
   "codemirror_mode": {
    "name": "ipython",
    "version": 3
   },
   "file_extension": ".py",
   "mimetype": "text/x-python",
   "name": "python",
   "nbconvert_exporter": "python",
   "pygments_lexer": "ipython3",
   "version": "3.12.7"
  }
 },
 "nbformat": 4,
 "nbformat_minor": 5
}
