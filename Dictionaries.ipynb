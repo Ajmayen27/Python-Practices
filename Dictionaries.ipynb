{
 "cells": [
  {
   "cell_type": "markdown",
   "id": "1b04bce1-cb95-40f9-bc28-51887554d211",
   "metadata": {},
   "source": [
    " Dictionaries Stores the Data as Key value Pair"
   ]
  },
  {
   "cell_type": "code",
   "execution_count": 3,
   "id": "44b2bdb8-abc5-45e1-910f-caae4943fb86",
   "metadata": {},
   "outputs": [],
   "source": [
    "dic = {\n",
    "    'name':'Ajmayen Fayek',\n",
    "    'varsity':'DIU'\n",
    "    \n",
    "}"
   ]
  },
  {
   "cell_type": "code",
   "execution_count": 5,
   "id": "cfebcb84-5904-44d1-a6f5-72311e79dab3",
   "metadata": {},
   "outputs": [
    {
     "data": {
      "text/plain": [
       "{'name': 'Ajmayen Fayek', 'varsity': 'DIU'}"
      ]
     },
     "execution_count": 5,
     "metadata": {},
     "output_type": "execute_result"
    }
   ],
   "source": [
    "dic"
   ]
  },
  {
   "cell_type": "code",
   "execution_count": 7,
   "id": "ceb5f6ed-94ad-4812-9e28-5384bc88ed4c",
   "metadata": {},
   "outputs": [
    {
     "data": {
      "text/plain": [
       "dict_keys(['name', 'varsity'])"
      ]
     },
     "execution_count": 7,
     "metadata": {},
     "output_type": "execute_result"
    }
   ],
   "source": [
    "dic.keys()"
   ]
  },
  {
   "cell_type": "code",
   "execution_count": 9,
   "id": "44918c9f-5a69-4995-81b8-27b15cc355b5",
   "metadata": {},
   "outputs": [
    {
     "data": {
      "text/plain": [
       "dict_values(['Ajmayen Fayek', 'DIU'])"
      ]
     },
     "execution_count": 9,
     "metadata": {},
     "output_type": "execute_result"
    }
   ],
   "source": [
    "dic.values()"
   ]
  },
  {
   "cell_type": "code",
   "execution_count": 11,
   "id": "0df1b920-84b9-404f-ba04-e6eeeb33c716",
   "metadata": {},
   "outputs": [],
   "source": [
    "dic2 = dic.copy()"
   ]
  },
  {
   "cell_type": "code",
   "execution_count": 13,
   "id": "5cc64318-5ba8-4684-b04a-f76cbe49b65a",
   "metadata": {},
   "outputs": [
    {
     "data": {
      "text/plain": [
       "{'name': 'Ajmayen Fayek', 'varsity': 'DIU'}"
      ]
     },
     "execution_count": 13,
     "metadata": {},
     "output_type": "execute_result"
    }
   ],
   "source": [
    "dic2"
   ]
  },
  {
   "cell_type": "code",
   "execution_count": 15,
   "id": "1761b5b7-e8a0-4262-87cd-e2841a87a864",
   "metadata": {},
   "outputs": [],
   "source": [
    "dic['varsity'] = 'Oxford'"
   ]
  },
  {
   "cell_type": "code",
   "execution_count": 17,
   "id": "e5480590-2423-4759-948c-496264cdbf24",
   "metadata": {},
   "outputs": [
    {
     "data": {
      "text/plain": [
       "{'name': 'Ajmayen Fayek', 'varsity': 'Oxford'}"
      ]
     },
     "execution_count": 17,
     "metadata": {},
     "output_type": "execute_result"
    }
   ],
   "source": [
    "dic"
   ]
  },
  {
   "cell_type": "code",
   "execution_count": 19,
   "id": "354bb116-d202-424a-83db-e7e961d0c7ec",
   "metadata": {},
   "outputs": [
    {
     "data": {
      "text/plain": [
       "{'name': 'Ajmayen Fayek', 'varsity': 'DIU'}"
      ]
     },
     "execution_count": 19,
     "metadata": {},
     "output_type": "execute_result"
    }
   ],
   "source": [
    "dic2"
   ]
  },
  {
   "cell_type": "code",
   "execution_count": 21,
   "id": "40453a17-821b-4620-8076-1679edcf050d",
   "metadata": {},
   "outputs": [],
   "source": [
    "dic['dept'] = 'DS'"
   ]
  },
  {
   "cell_type": "code",
   "execution_count": 23,
   "id": "d9dde42c-93c7-4f04-b3b6-ba41be8dca4d",
   "metadata": {},
   "outputs": [
    {
     "data": {
      "text/plain": [
       "{'name': 'Ajmayen Fayek', 'varsity': 'Oxford', 'dept': 'DS'}"
      ]
     },
     "execution_count": 23,
     "metadata": {},
     "output_type": "execute_result"
    }
   ],
   "source": [
    "dic"
   ]
  },
  {
   "cell_type": "code",
   "execution_count": 25,
   "id": "a63a9e93-8985-4144-be41-3ae5aa4bd800",
   "metadata": {},
   "outputs": [],
   "source": [
    " dic.update({'dept':'Data Science'})"
   ]
  },
  {
   "cell_type": "code",
   "execution_count": 27,
   "id": "ee3410c6-f7a0-4feb-905f-de14975a5eda",
   "metadata": {},
   "outputs": [
    {
     "data": {
      "text/plain": [
       "{'name': 'Ajmayen Fayek', 'varsity': 'Oxford', 'dept': 'Data Science'}"
      ]
     },
     "execution_count": 27,
     "metadata": {},
     "output_type": "execute_result"
    }
   ],
   "source": [
    "dic"
   ]
  },
  {
   "cell_type": "code",
   "execution_count": 29,
   "id": "41557d79-eb5f-492e-924e-1537763935ed",
   "metadata": {},
   "outputs": [
    {
     "data": {
      "text/plain": [
       "('dept', 'Data Science')"
      ]
     },
     "execution_count": 29,
     "metadata": {},
     "output_type": "execute_result"
    }
   ],
   "source": [
    "dic.popitem()"
   ]
  },
  {
   "cell_type": "code",
   "execution_count": 31,
   "id": "ae3a77bd-cada-4b4e-94c5-8a4d7b8638a7",
   "metadata": {},
   "outputs": [
    {
     "data": {
      "text/plain": [
       "{'name': 'Ajmayen Fayek', 'varsity': 'Oxford'}"
      ]
     },
     "execution_count": 31,
     "metadata": {},
     "output_type": "execute_result"
    }
   ],
   "source": [
    "dic"
   ]
  },
  {
   "cell_type": "code",
   "execution_count": 33,
   "id": "d265b384-0910-4408-b582-1d5bb9eff57b",
   "metadata": {},
   "outputs": [
    {
     "data": {
      "text/plain": [
       "'Oxford'"
      ]
     },
     "execution_count": 33,
     "metadata": {},
     "output_type": "execute_result"
    }
   ],
   "source": [
    "dic.pop('varsity')"
   ]
  },
  {
   "cell_type": "code",
   "execution_count": 35,
   "id": "65b8385e-2a1b-4931-933b-ce66e12f968a",
   "metadata": {},
   "outputs": [
    {
     "data": {
      "text/plain": [
       "{'name': 'Ajmayen Fayek'}"
      ]
     },
     "execution_count": 35,
     "metadata": {},
     "output_type": "execute_result"
    }
   ],
   "source": [
    "dic"
   ]
  },
  {
   "cell_type": "code",
   "execution_count": 37,
   "id": "6547fe75-fae5-4e68-a4b7-0a10e959ee6f",
   "metadata": {},
   "outputs": [],
   "source": [
    "del dic2['varsity']"
   ]
  },
  {
   "cell_type": "code",
   "execution_count": 39,
   "id": "0093b693-b026-4530-ac19-a905f08c51c7",
   "metadata": {},
   "outputs": [
    {
     "data": {
      "text/plain": [
       "{'name': 'Ajmayen Fayek'}"
      ]
     },
     "execution_count": 39,
     "metadata": {},
     "output_type": "execute_result"
    }
   ],
   "source": [
    "dic2"
   ]
  },
  {
   "cell_type": "code",
   "execution_count": 41,
   "id": "dbdb0d15-b5fe-4190-a7bc-105a94bf94b0",
   "metadata": {},
   "outputs": [],
   "source": [
    "dic3 = {\n",
    "    'name':'Ak Khan',\n",
    "    'state':'New york',\n",
    "    'country':'USA',\n",
    "    'Salary':'5000'\n",
    "    \n",
    "}"
   ]
  },
  {
   "cell_type": "code",
   "execution_count": 47,
   "id": "575f5d2c-9b07-4c19-a6cb-a2a183727181",
   "metadata": {},
   "outputs": [
    {
     "name": "stdout",
     "output_type": "stream",
     "text": [
      "Ak Khan\n",
      "New york\n",
      "USA\n",
      "5000\n"
     ]
    }
   ],
   "source": [
    "for i in dic3:\n",
    "    print(dic3[i])"
   ]
  },
  {
   "cell_type": "code",
   "execution_count": 49,
   "id": "d365239b-7659-46bb-86ed-d19fa22153f3",
   "metadata": {},
   "outputs": [],
   "source": [
    "l1 = list(dic3.keys())"
   ]
  },
  {
   "cell_type": "code",
   "execution_count": 51,
   "id": "4733d03e-3552-460e-8106-bc3f3ba0e3a8",
   "metadata": {},
   "outputs": [
    {
     "data": {
      "text/plain": [
       "['name', 'state', 'country', 'Salary']"
      ]
     },
     "execution_count": 51,
     "metadata": {},
     "output_type": "execute_result"
    }
   ],
   "source": [
    "l1"
   ]
  },
  {
   "cell_type": "code",
   "execution_count": 53,
   "id": "691d3724-51c7-4f8c-ae16-99b672489328",
   "metadata": {},
   "outputs": [],
   "source": [
    "l2 = list(dic3.values())"
   ]
  },
  {
   "cell_type": "code",
   "execution_count": 55,
   "id": "6e438310-ae66-4326-934e-3c8a0d9e9d30",
   "metadata": {},
   "outputs": [
    {
     "data": {
      "text/plain": [
       "['Ak Khan', 'New york', 'USA', '5000']"
      ]
     },
     "execution_count": 55,
     "metadata": {},
     "output_type": "execute_result"
    }
   ],
   "source": [
    "l2"
   ]
  },
  {
   "cell_type": "markdown",
   "id": "edc5e77d-92ac-4211-9f3a-68c12b24eff2",
   "metadata": {},
   "source": [
    "User Input"
   ]
  },
  {
   "cell_type": "code",
   "execution_count": 1,
   "id": "3731092a-f63b-4f08-a10d-a08f08aadb5b",
   "metadata": {},
   "outputs": [
    {
     "name": "stdin",
     "output_type": "stream",
     "text": [
      " 3\n",
      " Name\n",
      " Ajmayen\n",
      " dept\n",
      " swwe\n",
      " dep2\n",
      " ds\n"
     ]
    },
    {
     "name": "stdout",
     "output_type": "stream",
     "text": [
      "{'Name': 'Ajmayen', 'dept': 'swwe', 'dep2': 'ds'}\n"
     ]
    }
   ],
   "source": [
    " n = int(input())\n",
    " d = {}\n",
    "\n",
    "for x in range(n):\n",
    "    key = input()\n",
    "    value = input()\n",
    "    d[key] = value\n",
    "print(d)"
   ]
  },
  {
   "cell_type": "code",
   "execution_count": null,
   "id": "76fc1f90-ea3d-463a-b8bb-51dae5ada9a9",
   "metadata": {},
   "outputs": [],
   "source": []
  }
 ],
 "metadata": {
  "kernelspec": {
   "display_name": "Python [conda env:base] *",
   "language": "python",
   "name": "conda-base-py"
  },
  "language_info": {
   "codemirror_mode": {
    "name": "ipython",
    "version": 3
   },
   "file_extension": ".py",
   "mimetype": "text/x-python",
   "name": "python",
   "nbconvert_exporter": "python",
   "pygments_lexer": "ipython3",
   "version": "3.12.7"
  }
 },
 "nbformat": 4,
 "nbformat_minor": 5
}
