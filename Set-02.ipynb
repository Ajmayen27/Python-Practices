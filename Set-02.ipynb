{
 "cells": [
  {
   "cell_type": "code",
   "execution_count": 2,
   "id": "1033ca9c-875d-4ca4-a149-f59b7bc07a90",
   "metadata": {},
   "outputs": [],
   "source": [
    "S1 = {1,2,3,4,5}"
   ]
  },
  {
   "cell_type": "code",
   "execution_count": 6,
   "id": "9e687a3f-57f6-4479-944f-37ec522c485f",
   "metadata": {},
   "outputs": [],
   "source": [
    "S2 = {1,2,'a','b'}"
   ]
  },
  {
   "cell_type": "code",
   "execution_count": 10,
   "id": "7c060fdb-a5f0-49fb-9e6c-5df1ec58dbe6",
   "metadata": {},
   "outputs": [],
   "source": [
    "S3 = frozenset(S2)"
   ]
  },
  {
   "cell_type": "code",
   "execution_count": 12,
   "id": "c4e33b79-47ec-43cc-bab9-1414eb001a93",
   "metadata": {},
   "outputs": [
    {
     "data": {
      "text/plain": [
       "frozenset({1, 2, 'a', 'b'})"
      ]
     },
     "execution_count": 12,
     "metadata": {},
     "output_type": "execute_result"
    }
   ],
   "source": [
    "S3"
   ]
  },
  {
   "cell_type": "code",
   "execution_count": 14,
   "id": "795370c0-7977-48b8-81eb-711555d0b3b5",
   "metadata": {},
   "outputs": [
    {
     "ename": "AttributeError",
     "evalue": "'frozenset' object has no attribute 'add'",
     "output_type": "error",
     "traceback": [
      "\u001b[1;31m---------------------------------------------------------------------------\u001b[0m",
      "\u001b[1;31mAttributeError\u001b[0m                            Traceback (most recent call last)",
      "Cell \u001b[1;32mIn[14], line 1\u001b[0m\n\u001b[1;32m----> 1\u001b[0m S3\u001b[38;5;241m.\u001b[39madd(\u001b[38;5;241m1\u001b[39m)\n",
      "\u001b[1;31mAttributeError\u001b[0m: 'frozenset' object has no attribute 'add'"
     ]
    }
   ],
   "source": [
    "S3.add()"
   ]
  },
  {
   "cell_type": "code",
   "execution_count": 16,
   "id": "2cb607cb-6565-4ab4-b392-69b29b3c043e",
   "metadata": {},
   "outputs": [],
   "source": [
    "S1.add(6)"
   ]
  },
  {
   "cell_type": "code",
   "execution_count": 18,
   "id": "ffa495a3-8d23-4b1c-a279-696d91f053b6",
   "metadata": {},
   "outputs": [
    {
     "data": {
      "text/plain": [
       "{1, 2, 3, 4, 5, 6}"
      ]
     },
     "execution_count": 18,
     "metadata": {},
     "output_type": "execute_result"
    }
   ],
   "source": [
    "S1"
   ]
  },
  {
   "cell_type": "code",
   "execution_count": 20,
   "id": "89f8c721-7791-4562-a443-e74503e16110",
   "metadata": {},
   "outputs": [],
   "source": [
    "S4 = S1"
   ]
  },
  {
   "cell_type": "code",
   "execution_count": 22,
   "id": "dceeb5a5-455b-4450-b9cc-a729446c5d14",
   "metadata": {},
   "outputs": [
    {
     "data": {
      "text/plain": [
       "{1, 2, 3, 4, 5, 6}"
      ]
     },
     "execution_count": 22,
     "metadata": {},
     "output_type": "execute_result"
    }
   ],
   "source": [
    "S4"
   ]
  },
  {
   "cell_type": "code",
   "execution_count": 24,
   "id": "1ae8181d-9297-44eb-8c89-8558da13dc49",
   "metadata": {},
   "outputs": [],
   "source": [
    "S1.remove(6)"
   ]
  },
  {
   "cell_type": "code",
   "execution_count": 26,
   "id": "f0563134-a595-4497-b02f-5ad12d57ad56",
   "metadata": {},
   "outputs": [
    {
     "data": {
      "text/plain": [
       "{1, 2, 3, 4, 5}"
      ]
     },
     "execution_count": 26,
     "metadata": {},
     "output_type": "execute_result"
    }
   ],
   "source": [
    "S1"
   ]
  },
  {
   "cell_type": "code",
   "execution_count": 28,
   "id": "210765ef-d2cf-45ff-bada-0216b132cebf",
   "metadata": {},
   "outputs": [
    {
     "data": {
      "text/plain": [
       "{1, 2, 3, 4, 5}"
      ]
     },
     "execution_count": 28,
     "metadata": {},
     "output_type": "execute_result"
    }
   ],
   "source": [
    "S4"
   ]
  },
  {
   "cell_type": "code",
   "execution_count": 30,
   "id": "ee3a9b98-4ee6-4736-a99f-0661a7da0800",
   "metadata": {},
   "outputs": [],
   "source": [
    "S5 = S4.copy()"
   ]
  },
  {
   "cell_type": "code",
   "execution_count": 32,
   "id": "1afa4b1a-2e24-4d11-9e65-9100ed44b006",
   "metadata": {},
   "outputs": [
    {
     "data": {
      "text/plain": [
       "{1, 2, 3, 4, 5}"
      ]
     },
     "execution_count": 32,
     "metadata": {},
     "output_type": "execute_result"
    }
   ],
   "source": [
    "S5"
   ]
  },
  {
   "cell_type": "code",
   "execution_count": 34,
   "id": "bee943f0-0842-4ce2-a5ea-59d9e81f631b",
   "metadata": {},
   "outputs": [],
   "source": [
    "S4.remove(5)"
   ]
  },
  {
   "cell_type": "code",
   "execution_count": 36,
   "id": "f2e7e875-fac1-4768-9f72-256502b71c64",
   "metadata": {},
   "outputs": [
    {
     "data": {
      "text/plain": [
       "{1, 2, 3, 4, 5}"
      ]
     },
     "execution_count": 36,
     "metadata": {},
     "output_type": "execute_result"
    }
   ],
   "source": [
    "S5"
   ]
  },
  {
   "cell_type": "code",
   "execution_count": 38,
   "id": "205751c9-59a1-4358-aaac-a666afc740bc",
   "metadata": {},
   "outputs": [
    {
     "data": {
      "text/plain": [
       "{1, 2, 3, 4}"
      ]
     },
     "execution_count": 38,
     "metadata": {},
     "output_type": "execute_result"
    }
   ],
   "source": [
    "S4"
   ]
  },
  {
   "cell_type": "code",
   "execution_count": 40,
   "id": "9fae117d-75fc-4d69-a8fd-89ae63c69cf5",
   "metadata": {},
   "outputs": [
    {
     "data": {
      "text/plain": [
       "{3, 4}"
      ]
     },
     "execution_count": 40,
     "metadata": {},
     "output_type": "execute_result"
    }
   ],
   "source": [
    "S1.difference(S3)"
   ]
  },
  {
   "cell_type": "code",
   "execution_count": 42,
   "id": "927b9aac-5870-4ca9-b2cf-da1767c8ff2d",
   "metadata": {},
   "outputs": [
    {
     "data": {
      "text/plain": [
       "frozenset({'a', 'b'})"
      ]
     },
     "execution_count": 42,
     "metadata": {},
     "output_type": "execute_result"
    }
   ],
   "source": [
    "S3.difference(S1)"
   ]
  },
  {
   "cell_type": "code",
   "execution_count": 44,
   "id": "6281f1f1-0231-42bd-9286-50b564bd079e",
   "metadata": {},
   "outputs": [
    {
     "data": {
      "text/plain": [
       "{1, 2, 3, 4}"
      ]
     },
     "execution_count": 44,
     "metadata": {},
     "output_type": "execute_result"
    }
   ],
   "source": [
    "S1"
   ]
  },
  {
   "cell_type": "code",
   "execution_count": 48,
   "id": "cb8603e6-d2bc-4782-b9e1-a4b88f3f94c9",
   "metadata": {},
   "outputs": [
    {
     "data": {
      "text/plain": [
       "frozenset({1, 2, 'a', 'b'})"
      ]
     },
     "execution_count": 48,
     "metadata": {},
     "output_type": "execute_result"
    }
   ],
   "source": [
    "S3"
   ]
  },
  {
   "cell_type": "code",
   "execution_count": 50,
   "id": "23d12ad7-673c-4bf9-8530-c43d1cff69d3",
   "metadata": {},
   "outputs": [],
   "source": [
    "S1 = {1,2,3}"
   ]
  },
  {
   "cell_type": "code",
   "execution_count": 52,
   "id": "01631cac-357c-499a-bcd7-f48d86470527",
   "metadata": {},
   "outputs": [],
   "source": [
    "S2 = {3,4}"
   ]
  },
  {
   "cell_type": "code",
   "execution_count": 54,
   "id": "c08a1bba-5f6b-4d68-bf3b-4bd01b149125",
   "metadata": {},
   "outputs": [
    {
     "data": {
      "text/plain": [
       "{1, 2}"
      ]
     },
     "execution_count": 54,
     "metadata": {},
     "output_type": "execute_result"
    }
   ],
   "source": [
    "S1.difference(S2)"
   ]
  },
  {
   "cell_type": "code",
   "execution_count": 56,
   "id": "b0665e22-dfe9-493f-ba2d-6d83fbc7c435",
   "metadata": {},
   "outputs": [],
   "source": [
    "S1.difference_update(S2)"
   ]
  },
  {
   "cell_type": "code",
   "execution_count": 58,
   "id": "388ad9d1-f228-42e7-b8bc-c32b7dcb5f7b",
   "metadata": {},
   "outputs": [
    {
     "data": {
      "text/plain": [
       "{1, 2, 3, 4}"
      ]
     },
     "execution_count": 58,
     "metadata": {},
     "output_type": "execute_result"
    }
   ],
   "source": [
    "S4"
   ]
  },
  {
   "cell_type": "code",
   "execution_count": 60,
   "id": "a655559f-2710-4678-bec3-17632f368c09",
   "metadata": {},
   "outputs": [
    {
     "data": {
      "text/plain": [
       "{1, 2}"
      ]
     },
     "execution_count": 60,
     "metadata": {},
     "output_type": "execute_result"
    }
   ],
   "source": [
    "S1"
   ]
  },
  {
   "cell_type": "code",
   "execution_count": 62,
   "id": "17d3523a-009b-45a4-ba29-d531aeecc380",
   "metadata": {},
   "outputs": [
    {
     "data": {
      "text/plain": [
       "set()"
      ]
     },
     "execution_count": 62,
     "metadata": {},
     "output_type": "execute_result"
    }
   ],
   "source": [
    "S1.difference(S4)"
   ]
  },
  {
   "cell_type": "code",
   "execution_count": 64,
   "id": "d9147ebf-ea74-4ff7-aa59-376e75510848",
   "metadata": {},
   "outputs": [
    {
     "data": {
      "text/plain": [
       "{3, 4}"
      ]
     },
     "execution_count": 64,
     "metadata": {},
     "output_type": "execute_result"
    }
   ],
   "source": [
    "S4.difference(S1)"
   ]
  },
  {
   "cell_type": "code",
   "execution_count": 66,
   "id": "6c12bf11-1286-49b7-baa9-2b664026d1db",
   "metadata": {},
   "outputs": [],
   "source": [
    "S4.difference_update(S1)"
   ]
  },
  {
   "cell_type": "code",
   "execution_count": 71,
   "id": "485e8637-9ec9-415c-97ef-6e5473feac6d",
   "metadata": {},
   "outputs": [
    {
     "data": {
      "text/plain": [
       "{3, 4}"
      ]
     },
     "execution_count": 71,
     "metadata": {},
     "output_type": "execute_result"
    }
   ],
   "source": [
    "S4"
   ]
  },
  {
   "cell_type": "code",
   "execution_count": 68,
   "id": "17c6d630-7a0d-4030-ae12-28311fb692d1",
   "metadata": {},
   "outputs": [],
   "source": [
    "S1.difference_update(S4)"
   ]
  },
  {
   "cell_type": "code",
   "execution_count": 73,
   "id": "616f134e-7527-4443-98c2-b225a7a4e600",
   "metadata": {},
   "outputs": [
    {
     "data": {
      "text/plain": [
       "{1, 2}"
      ]
     },
     "execution_count": 73,
     "metadata": {},
     "output_type": "execute_result"
    }
   ],
   "source": [
    "S1"
   ]
  },
  {
   "cell_type": "code",
   "execution_count": 75,
   "id": "267390f0-2ca0-4b2b-a204-82f114f84aa1",
   "metadata": {},
   "outputs": [],
   "source": [
    "S1.add(3)"
   ]
  },
  {
   "cell_type": "code",
   "execution_count": 77,
   "id": "f7c39795-5cd4-4c01-b9d0-ec2df1a23892",
   "metadata": {},
   "outputs": [
    {
     "data": {
      "text/plain": [
       "{1, 2, 3}"
      ]
     },
     "execution_count": 77,
     "metadata": {},
     "output_type": "execute_result"
    }
   ],
   "source": [
    "S1"
   ]
  },
  {
   "cell_type": "code",
   "execution_count": 79,
   "id": "4c081910-32b7-4b27-aacf-5aa2c02df890",
   "metadata": {},
   "outputs": [
    {
     "data": {
      "text/plain": [
       "False"
      ]
     },
     "execution_count": 79,
     "metadata": {},
     "output_type": "execute_result"
    }
   ],
   "source": [
    "S4.issubset(S1)"
   ]
  },
  {
   "cell_type": "code",
   "execution_count": 81,
   "id": "a92250ea-e871-423f-ba6c-eba559a0a94b",
   "metadata": {},
   "outputs": [
    {
     "data": {
      "text/plain": [
       "False"
      ]
     },
     "execution_count": 81,
     "metadata": {},
     "output_type": "execute_result"
    }
   ],
   "source": [
    "S1.issubset(S4)"
   ]
  },
  {
   "cell_type": "code",
   "execution_count": 83,
   "id": "9223f354-0284-4693-a041-81bc377bde9a",
   "metadata": {},
   "outputs": [
    {
     "data": {
      "text/plain": [
       "{3, 4}"
      ]
     },
     "execution_count": 83,
     "metadata": {},
     "output_type": "execute_result"
    }
   ],
   "source": [
    "S4"
   ]
  },
  {
   "cell_type": "code",
   "execution_count": 87,
   "id": "267a6e22-abbe-4cd7-b44b-9fd41484d3c4",
   "metadata": {},
   "outputs": [
    {
     "data": {
      "text/plain": [
       "True"
      ]
     },
     "execution_count": 87,
     "metadata": {},
     "output_type": "execute_result"
    }
   ],
   "source": [
    "{3}.issubset(S4)"
   ]
  },
  {
   "cell_type": "code",
   "execution_count": 89,
   "id": "3bd00d69-56b8-486a-b22c-caf6c34dd3ef",
   "metadata": {},
   "outputs": [
    {
     "data": {
      "text/plain": [
       "True"
      ]
     },
     "execution_count": 89,
     "metadata": {},
     "output_type": "execute_result"
    }
   ],
   "source": [
    "S4.issuperset({4})"
   ]
  },
  {
   "cell_type": "code",
   "execution_count": 91,
   "id": "05729994-0d22-4e15-8ec8-4b25347b68b5",
   "metadata": {},
   "outputs": [],
   "source": [
    "S1 ={1,2,5,6}"
   ]
  },
  {
   "cell_type": "code",
   "execution_count": 93,
   "id": "d77df058-0e8f-4a1e-9c6a-35e31d5e7449",
   "metadata": {},
   "outputs": [],
   "source": [
    "S2 = {1,2,7,8}"
   ]
  },
  {
   "cell_type": "code",
   "execution_count": 97,
   "id": "66bdd483-fefe-442d-9416-e930854df89c",
   "metadata": {},
   "outputs": [
    {
     "data": {
      "text/plain": [
       "{5, 6, 7, 8}"
      ]
     },
     "execution_count": 97,
     "metadata": {},
     "output_type": "execute_result"
    }
   ],
   "source": [
    "S1.symmetric_difference(S2)"
   ]
  },
  {
   "cell_type": "code",
   "execution_count": null,
   "id": "3c2b0600-f23f-4911-b5b8-d93387db279e",
   "metadata": {},
   "outputs": [],
   "source": []
  }
 ],
 "metadata": {
  "kernelspec": {
   "display_name": "Python [conda env:base] *",
   "language": "python",
   "name": "conda-base-py"
  },
  "language_info": {
   "codemirror_mode": {
    "name": "ipython",
    "version": 3
   },
   "file_extension": ".py",
   "mimetype": "text/x-python",
   "name": "python",
   "nbconvert_exporter": "python",
   "pygments_lexer": "ipython3",
   "version": "3.12.7"
  }
 },
 "nbformat": 4,
 "nbformat_minor": 5
}
