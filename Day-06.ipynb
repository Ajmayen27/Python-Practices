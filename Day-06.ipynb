{
 "cells": [
  {
   "cell_type": "markdown",
   "id": "dae1f1f8-fdb4-477a-b61e-e9cc425dedb9",
   "metadata": {},
   "source": [
    "Arithmetic Operator"
   ]
  },
  {
   "cell_type": "code",
   "execution_count": 16,
   "id": "864eb8d9-7e6a-4bb0-9647-6b54e33a15db",
   "metadata": {},
   "outputs": [],
   "source": [
    "#declaring oparetors\n",
    "x = 15\n",
    "y = 7\n",
    "z = 5"
   ]
  },
  {
   "cell_type": "code",
   "execution_count": 18,
   "id": "a79ec377-b3d8-41b9-a0e1-87725fff1be7",
   "metadata": {},
   "outputs": [
    {
     "data": {
      "text/plain": [
       "22"
      ]
     },
     "execution_count": 18,
     "metadata": {},
     "output_type": "execute_result"
    }
   ],
   "source": [
    "x + y"
   ]
  },
  {
   "cell_type": "code",
   "execution_count": 20,
   "id": "41206b9f-4a2e-4756-aeb4-95fd3b6d3613",
   "metadata": {},
   "outputs": [
    {
     "data": {
      "text/plain": [
       "8"
      ]
     },
     "execution_count": 20,
     "metadata": {},
     "output_type": "execute_result"
    }
   ],
   "source": [
    "x - y "
   ]
  },
  {
   "cell_type": "code",
   "execution_count": 22,
   "id": "8934f58d-026d-482e-8484-d0bebee7d951",
   "metadata": {},
   "outputs": [
    {
     "data": {
      "text/plain": [
       "75"
      ]
     },
     "execution_count": 22,
     "metadata": {},
     "output_type": "execute_result"
    }
   ],
   "source": [
    "x * z"
   ]
  },
  {
   "cell_type": "code",
   "execution_count": 24,
   "id": "f70f0be0-6b16-4b83-96b5-a1b14ecc3d51",
   "metadata": {},
   "outputs": [
    {
     "data": {
      "text/plain": [
       "3.0"
      ]
     },
     "execution_count": 24,
     "metadata": {},
     "output_type": "execute_result"
    }
   ],
   "source": [
    "x / z"
   ]
  },
  {
   "cell_type": "code",
   "execution_count": 26,
   "id": "b421cf8e-d438-4b6c-aa4f-aaa87dc82758",
   "metadata": {},
   "outputs": [
    {
     "data": {
      "text/plain": [
       "16807"
      ]
     },
     "execution_count": 26,
     "metadata": {},
     "output_type": "execute_result"
    }
   ],
   "source": [
    "y ** z"
   ]
  },
  {
   "cell_type": "code",
   "execution_count": 28,
   "id": "0e7b676c-1d1e-469c-9c7e-c49506bf502e",
   "metadata": {},
   "outputs": [
    {
     "data": {
      "text/plain": [
       "35"
      ]
     },
     "execution_count": 28,
     "metadata": {},
     "output_type": "execute_result"
    }
   ],
   "source": [
    "y * z\n"
   ]
  },
  {
   "cell_type": "code",
   "execution_count": 30,
   "id": "48f9bbd3-a6e1-4962-8ab3-cd4c03e4a238",
   "metadata": {},
   "outputs": [
    {
     "data": {
      "text/plain": [
       "1225"
      ]
     },
     "execution_count": 30,
     "metadata": {},
     "output_type": "execute_result"
    }
   ],
   "source": [
    "35*35"
   ]
  },
  {
   "cell_type": "code",
   "execution_count": 32,
   "id": "a3d98f7c-df7b-4baf-a1ff-819fb173eddb",
   "metadata": {},
   "outputs": [
    {
     "data": {
      "text/plain": [
       "2"
      ]
     },
     "execution_count": 32,
     "metadata": {},
     "output_type": "execute_result"
    }
   ],
   "source": [
    "x // y"
   ]
  },
  {
   "cell_type": "code",
   "execution_count": 34,
   "id": "09474dc4-1513-4d3b-af4d-b99741ec2c98",
   "metadata": {},
   "outputs": [],
   "source": [
    "import math"
   ]
  },
  {
   "cell_type": "code",
   "execution_count": 36,
   "id": "dca64765-50e1-46b7-9119-6ac27584937b",
   "metadata": {},
   "outputs": [
    {
     "data": {
      "text/plain": [
       "2"
      ]
     },
     "execution_count": 36,
     "metadata": {},
     "output_type": "execute_result"
    }
   ],
   "source": [
    "math.floor(x/y)"
   ]
  },
  {
   "cell_type": "markdown",
   "id": "1808b6f8-b0d7-41a2-a0d7-6da4f09123ff",
   "metadata": {},
   "source": [
    "Identity Operator"
   ]
  },
  {
   "cell_type": "code",
   "execution_count": 47,
   "id": "41e204d2-bb39-44ca-b9ac-bf07ce820e21",
   "metadata": {},
   "outputs": [],
   "source": [
    "a = 100010\n",
    "b = a\n",
    "c = 100010"
   ]
  },
  {
   "cell_type": "code",
   "execution_count": 49,
   "id": "ab164c72-30e1-43d9-9ac8-c25b175d3315",
   "metadata": {},
   "outputs": [
    {
     "data": {
      "text/plain": [
       "True"
      ]
     },
     "execution_count": 49,
     "metadata": {},
     "output_type": "execute_result"
    }
   ],
   "source": [
    "b is a"
   ]
  },
  {
   "cell_type": "code",
   "execution_count": 51,
   "id": "02b49a21-54db-49ea-acb2-56f5dcfb78c0",
   "metadata": {},
   "outputs": [
    {
     "data": {
      "text/plain": [
       "True"
      ]
     },
     "execution_count": 51,
     "metadata": {},
     "output_type": "execute_result"
    }
   ],
   "source": [
    "b == a"
   ]
  },
  {
   "cell_type": "code",
   "execution_count": 53,
   "id": "bbb59a24-c003-47c5-875e-340883929787",
   "metadata": {},
   "outputs": [
    {
     "data": {
      "text/plain": [
       "False"
      ]
     },
     "execution_count": 53,
     "metadata": {},
     "output_type": "execute_result"
    }
   ],
   "source": [
    "a is c"
   ]
  },
  {
   "cell_type": "code",
   "execution_count": 57,
   "id": "e3e20bb9",
   "metadata": {},
   "outputs": [
    {
     "data": {
      "text/plain": [
       "True"
      ]
     },
     "execution_count": 57,
     "metadata": {},
     "output_type": "execute_result"
    }
   ],
   "source": [
    "a is not c"
   ]
  },
  {
   "cell_type": "code",
   "execution_count": 55,
   "id": "ccf0c6cc-9816-4b44-b895-20c840d24bfa",
   "metadata": {},
   "outputs": [
    {
     "data": {
      "text/plain": [
       "True"
      ]
     },
     "execution_count": 55,
     "metadata": {},
     "output_type": "execute_result"
    }
   ],
   "source": [
    "a == c"
   ]
  },
  {
   "cell_type": "markdown",
   "id": "0e6de601-41b5-4a2e-8b85-078a6027ed7e",
   "metadata": {},
   "source": [
    "Membership Operator"
   ]
  },
  {
   "cell_type": "code",
   "execution_count": 60,
   "id": "1101e27b-ce93-47ae-8a99-db54884f2a7d",
   "metadata": {},
   "outputs": [],
   "source": [
    "list1 = [2,3,4,5,6,7]"
   ]
  },
  {
   "cell_type": "code",
   "execution_count": 62,
   "id": "bc3f9571-d86c-4fb4-9edd-34fbafcebdb8",
   "metadata": {},
   "outputs": [
    {
     "data": {
      "text/plain": [
       "False"
      ]
     },
     "execution_count": 62,
     "metadata": {},
     "output_type": "execute_result"
    }
   ],
   "source": [
    "1 in list1"
   ]
  },
  {
   "cell_type": "code",
   "execution_count": 64,
   "id": "dc2b3a1c-495b-48f7-9cfb-086e44fb549f",
   "metadata": {},
   "outputs": [
    {
     "data": {
      "text/plain": [
       "False"
      ]
     },
     "execution_count": 64,
     "metadata": {},
     "output_type": "execute_result"
    }
   ],
   "source": [
    "10 in list1"
   ]
  },
  {
   "cell_type": "code",
   "execution_count": 66,
   "id": "d8c553c3-0090-480b-a27e-32459e7c8ee8",
   "metadata": {},
   "outputs": [
    {
     "data": {
      "text/plain": [
       "True"
      ]
     },
     "execution_count": 66,
     "metadata": {},
     "output_type": "execute_result"
    }
   ],
   "source": [
    "5 in list1"
   ]
  },
  {
   "cell_type": "code",
   "execution_count": 68,
   "id": "10539f4d-2234-41f2-9114-63ae7fcf168e",
   "metadata": {},
   "outputs": [
    {
     "data": {
      "text/plain": [
       "False"
      ]
     },
     "execution_count": 68,
     "metadata": {},
     "output_type": "execute_result"
    }
   ],
   "source": [
    "7 not in list1"
   ]
  },
  {
   "cell_type": "code",
   "execution_count": 70,
   "id": "75591b57-a2c4-4a00-bc32-c12cd709c87d",
   "metadata": {},
   "outputs": [
    {
     "data": {
      "text/plain": [
       "True"
      ]
     },
     "execution_count": 70,
     "metadata": {},
     "output_type": "execute_result"
    }
   ],
   "source": [
    "12 not in list1"
   ]
  },
  {
   "cell_type": "code",
   "execution_count": 72,
   "id": "801ca5e0-fa2c-40b7-86b2-ba96f5261c72",
   "metadata": {},
   "outputs": [],
   "source": [
    " st1 = 'I love data Science'"
   ]
  },
  {
   "cell_type": "code",
   "execution_count": 76,
   "id": "db9cfe5c-b194-4721-99da-aa87295f56fe",
   "metadata": {},
   "outputs": [
    {
     "data": {
      "text/plain": [
       "True"
      ]
     },
     "execution_count": 76,
     "metadata": {},
     "output_type": "execute_result"
    }
   ],
   "source": [
    "'data' in st1"
   ]
  },
  {
   "cell_type": "markdown",
   "id": "ba0109a9-568c-4c0b-a5a3-9ae92c73aaa7",
   "metadata": {},
   "source": [
    "Bitwise operator"
   ]
  },
  {
   "cell_type": "code",
   "execution_count": 80,
   "id": "1b758f1e-b21e-4d5b-8a8c-7247ba3eb5c3",
   "metadata": {},
   "outputs": [],
   "source": [
    "p = 10\n",
    "q = 5"
   ]
  },
  {
   "cell_type": "code",
   "execution_count": 82,
   "id": "e1a482f7-97f2-419c-960b-4a129f5cc617",
   "metadata": {},
   "outputs": [
    {
     "data": {
      "text/plain": [
       "15"
      ]
     },
     "execution_count": 82,
     "metadata": {},
     "output_type": "execute_result"
    }
   ],
   "source": [
    "p | q"
   ]
  },
  {
   "cell_type": "code",
   "execution_count": 94,
   "id": "b0cffc23-7522-411c-b1ba-1c8999d6048f",
   "metadata": {},
   "outputs": [
    {
     "data": {
      "text/plain": [
       "0"
      ]
     },
     "execution_count": 94,
     "metadata": {},
     "output_type": "execute_result"
    }
   ],
   "source": [
    "p & q"
   ]
  },
  {
   "cell_type": "markdown",
   "id": "54a5ab08-4f10-4010-a057-9664568164cc",
   "metadata": {},
   "source": [
    "Comparsion Operator"
   ]
  },
  {
   "cell_type": "code",
   "execution_count": 101,
   "id": "50378af7-d530-4119-b01b-8b305a13b5f5",
   "metadata": {},
   "outputs": [
    {
     "data": {
      "text/plain": [
       "True"
      ]
     },
     "execution_count": 101,
     "metadata": {},
     "output_type": "execute_result"
    }
   ],
   "source": [
    "10  == 10"
   ]
  },
  {
   "cell_type": "code",
   "execution_count": 103,
   "id": "20c4b865-6cca-44f6-8852-a61d231e1360",
   "metadata": {},
   "outputs": [
    {
     "data": {
      "text/plain": [
       "True"
      ]
     },
     "execution_count": 103,
     "metadata": {},
     "output_type": "execute_result"
    }
   ],
   "source": [
    "10 >= 10"
   ]
  },
  {
   "cell_type": "code",
   "execution_count": 105,
   "id": "3094e26b-5042-4a83-b624-1fbd0218cff4",
   "metadata": {},
   "outputs": [
    {
     "data": {
      "text/plain": [
       "True"
      ]
     },
     "execution_count": 105,
     "metadata": {},
     "output_type": "execute_result"
    }
   ],
   "source": [
    "10 > 4 or 10 < 3"
   ]
  },
  {
   "cell_type": "code",
   "execution_count": 107,
   "id": "d3c7f482-1587-4896-a904-d813f3fa717d",
   "metadata": {},
   "outputs": [
    {
     "data": {
      "text/plain": [
       "False"
      ]
     },
     "execution_count": 107,
     "metadata": {},
     "output_type": "execute_result"
    }
   ],
   "source": [
    "10 > 4 and 10 < 3"
   ]
  },
  {
   "cell_type": "code",
   "execution_count": 109,
   "id": "cee3e326-07ba-49a8-ad5f-4061d6b37a72",
   "metadata": {},
   "outputs": [
    {
     "data": {
      "text/plain": [
       "True"
      ]
     },
     "execution_count": 109,
     "metadata": {},
     "output_type": "execute_result"
    }
   ],
   "source": [
    "not(10 > 4 and 10 < 3)"
   ]
  },
  {
   "cell_type": "code",
   "execution_count": 111,
   "id": "dc18ad93-c3f9-4153-8f61-3f418c1e4ea0",
   "metadata": {},
   "outputs": [],
   "source": [
    "x = 10\n",
    "x += 5"
   ]
  },
  {
   "cell_type": "code",
   "execution_count": 113,
   "id": "ee8fb2d4-0d56-45dc-b53d-651e5d895e93",
   "metadata": {},
   "outputs": [
    {
     "data": {
      "text/plain": [
       "15"
      ]
     },
     "execution_count": 113,
     "metadata": {},
     "output_type": "execute_result"
    }
   ],
   "source": [
    "x"
   ]
  },
  {
   "cell_type": "code",
   "execution_count": 115,
   "id": "02993247-eaa3-4fa1-b9ff-a74def3ffc59",
   "metadata": {},
   "outputs": [],
   "source": [
    "x -= 10"
   ]
  },
  {
   "cell_type": "code",
   "execution_count": 117,
   "id": "fdfece44-9e9e-4014-bfb8-d107740e732a",
   "metadata": {},
   "outputs": [
    {
     "data": {
      "text/plain": [
       "5"
      ]
     },
     "execution_count": 117,
     "metadata": {},
     "output_type": "execute_result"
    }
   ],
   "source": [
    "x"
   ]
  },
  {
   "cell_type": "code",
   "execution_count": 119,
   "id": "15b53084-f4fe-4f00-ab7b-9fca0495470d",
   "metadata": {},
   "outputs": [],
   "source": [
    "x /= 5"
   ]
  },
  {
   "cell_type": "code",
   "execution_count": 121,
   "id": "644a04f1-a839-42e4-95f4-75165e856698",
   "metadata": {},
   "outputs": [
    {
     "data": {
      "text/plain": [
       "1.0"
      ]
     },
     "execution_count": 121,
     "metadata": {},
     "output_type": "execute_result"
    }
   ],
   "source": [
    "x"
   ]
  },
  {
   "cell_type": "code",
   "execution_count": 123,
   "id": "23ab86fe-5e02-412f-847b-1c22dc730999",
   "metadata": {},
   "outputs": [],
   "source": [
    "x *= 5"
   ]
  },
  {
   "cell_type": "code",
   "execution_count": 125,
   "id": "345dbd8a-3260-459b-864f-f2511ed65c5b",
   "metadata": {},
   "outputs": [
    {
     "data": {
      "text/plain": [
       "5.0"
      ]
     },
     "execution_count": 125,
     "metadata": {},
     "output_type": "execute_result"
    }
   ],
   "source": [
    "x"
   ]
  },
  {
   "cell_type": "code",
   "execution_count": null,
   "id": "2d1b04e1-6f57-40d5-a166-cf1c12592d7e",
   "metadata": {},
   "outputs": [],
   "source": []
  }
 ],
 "metadata": {
  "kernelspec": {
   "display_name": "Python [conda env:base] *",
   "language": "python",
   "name": "conda-base-py"
  },
  "language_info": {
   "codemirror_mode": {
    "name": "ipython",
    "version": 3
   },
   "file_extension": ".py",
   "mimetype": "text/x-python",
   "name": "python",
   "nbconvert_exporter": "python",
   "pygments_lexer": "ipython3",
   "version": "3.12.7"
  }
 },
 "nbformat": 4,
 "nbformat_minor": 5
}
