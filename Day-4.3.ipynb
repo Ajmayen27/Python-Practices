{
 "cells": [
  {
   "cell_type": "markdown",
   "id": "c0894f29-5679-4d3e-a50c-6d52aac9773c",
   "metadata": {},
   "source": [
    " Data Frame"
   ]
  },
  {
   "cell_type": "code",
   "execution_count": 2,
   "id": "7d0b4929-f99d-489a-aa02-41a109bee828",
   "metadata": {},
   "outputs": [],
   "source": [
    "import pandas as pd\n",
    "df = pd.read_csv('poker.csv')"
   ]
  },
  {
   "cell_type": "code",
   "execution_count": 4,
   "id": "ff6428c5-29f3-44d0-bf25-bb1f8acaf0fe",
   "metadata": {},
   "outputs": [
    {
     "data": {
      "text/html": [
       "<div>\n",
       "<style scoped>\n",
       "    .dataframe tbody tr th:only-of-type {\n",
       "        vertical-align: middle;\n",
       "    }\n",
       "\n",
       "    .dataframe tbody tr th {\n",
       "        vertical-align: top;\n",
       "    }\n",
       "\n",
       "    .dataframe thead th {\n",
       "        text-align: right;\n",
       "    }\n",
       "</style>\n",
       "<table border=\"1\" class=\"dataframe\">\n",
       "  <thead>\n",
       "    <tr style=\"text-align: right;\">\n",
       "      <th></th>\n",
       "      <th>S1</th>\n",
       "      <th>C1</th>\n",
       "      <th>S2</th>\n",
       "      <th>C2</th>\n",
       "      <th>S3</th>\n",
       "      <th>C3</th>\n",
       "      <th>S4</th>\n",
       "      <th>C4</th>\n",
       "      <th>S5</th>\n",
       "      <th>C5</th>\n",
       "      <th>CLASS</th>\n",
       "    </tr>\n",
       "  </thead>\n",
       "  <tbody>\n",
       "    <tr>\n",
       "      <th>0</th>\n",
       "      <td>1</td>\n",
       "      <td>1</td>\n",
       "      <td>1</td>\n",
       "      <td>13</td>\n",
       "      <td>2</td>\n",
       "      <td>4</td>\n",
       "      <td>2</td>\n",
       "      <td>3</td>\n",
       "      <td>1</td>\n",
       "      <td>12</td>\n",
       "      <td>0</td>\n",
       "    </tr>\n",
       "    <tr>\n",
       "      <th>1</th>\n",
       "      <td>3</td>\n",
       "      <td>12</td>\n",
       "      <td>3</td>\n",
       "      <td>2</td>\n",
       "      <td>3</td>\n",
       "      <td>11</td>\n",
       "      <td>4</td>\n",
       "      <td>5</td>\n",
       "      <td>2</td>\n",
       "      <td>5</td>\n",
       "      <td>1</td>\n",
       "    </tr>\n",
       "    <tr>\n",
       "      <th>2</th>\n",
       "      <td>1</td>\n",
       "      <td>9</td>\n",
       "      <td>4</td>\n",
       "      <td>6</td>\n",
       "      <td>1</td>\n",
       "      <td>4</td>\n",
       "      <td>3</td>\n",
       "      <td>2</td>\n",
       "      <td>3</td>\n",
       "      <td>9</td>\n",
       "      <td>1</td>\n",
       "    </tr>\n",
       "    <tr>\n",
       "      <th>3</th>\n",
       "      <td>1</td>\n",
       "      <td>4</td>\n",
       "      <td>3</td>\n",
       "      <td>13</td>\n",
       "      <td>2</td>\n",
       "      <td>13</td>\n",
       "      <td>2</td>\n",
       "      <td>1</td>\n",
       "      <td>3</td>\n",
       "      <td>6</td>\n",
       "      <td>1</td>\n",
       "    </tr>\n",
       "    <tr>\n",
       "      <th>4</th>\n",
       "      <td>3</td>\n",
       "      <td>10</td>\n",
       "      <td>2</td>\n",
       "      <td>7</td>\n",
       "      <td>1</td>\n",
       "      <td>2</td>\n",
       "      <td>2</td>\n",
       "      <td>11</td>\n",
       "      <td>4</td>\n",
       "      <td>9</td>\n",
       "      <td>0</td>\n",
       "    </tr>\n",
       "  </tbody>\n",
       "</table>\n",
       "</div>"
      ],
      "text/plain": [
       "   S1  C1  S2  C2  S3  C3  S4  C4  S5  C5  CLASS\n",
       "0   1   1   1  13   2   4   2   3   1  12      0\n",
       "1   3  12   3   2   3  11   4   5   2   5      1\n",
       "2   1   9   4   6   1   4   3   2   3   9      1\n",
       "3   1   4   3  13   2  13   2   1   3   6      1\n",
       "4   3  10   2   7   1   2   2  11   4   9      0"
      ]
     },
     "execution_count": 4,
     "metadata": {},
     "output_type": "execute_result"
    }
   ],
   "source": [
    "df.head()"
   ]
  },
  {
   "cell_type": "code",
   "execution_count": 10,
   "id": "125be66f-8fa0-4e54-9f39-4949378a79a8",
   "metadata": {},
   "outputs": [
    {
     "data": {
      "text/plain": [
       "(99998, 11)"
      ]
     },
     "execution_count": 10,
     "metadata": {},
     "output_type": "execute_result"
    }
   ],
   "source": [
    "df.shape"
   ]
  },
  {
   "cell_type": "code",
   "execution_count": 12,
   "id": "9e1d36e6-9152-4d66-a2cc-1b10f8700d26",
   "metadata": {},
   "outputs": [
    {
     "name": "stdout",
     "output_type": "stream",
     "text": [
      "<class 'pandas.core.frame.DataFrame'>\n",
      "RangeIndex: 99998 entries, 0 to 99997\n",
      "Data columns (total 11 columns):\n",
      " #   Column  Non-Null Count  Dtype\n",
      "---  ------  --------------  -----\n",
      " 0   S1      99998 non-null  int64\n",
      " 1   C1      99998 non-null  int64\n",
      " 2   S2      99998 non-null  int64\n",
      " 3   C2      99998 non-null  int64\n",
      " 4   S3      99998 non-null  int64\n",
      " 5   C3      99998 non-null  int64\n",
      " 6   S4      99998 non-null  int64\n",
      " 7   C4      99998 non-null  int64\n",
      " 8   S5      99998 non-null  int64\n",
      " 9   C5      99998 non-null  int64\n",
      " 10  CLASS   99998 non-null  int64\n",
      "dtypes: int64(11)\n",
      "memory usage: 8.4 MB\n"
     ]
    }
   ],
   "source": [
    " df.info()"
   ]
  },
  {
   "cell_type": "markdown",
   "id": "c41a681d-c265-47a8-85e4-d48a50d4f49e",
   "metadata": {},
   "source": [
    "Binary Type"
   ]
  },
  {
   "cell_type": "code",
   "execution_count": 15,
   "id": "d71d974a-7488-4dfc-9748-46192187b915",
   "metadata": {},
   "outputs": [],
   "source": [
    " byte_arr = bytearray('ABCDEF','utf-8')"
   ]
  },
  {
   "cell_type": "code",
   "execution_count": 17,
   "id": "9f8479a8-4386-425f-ad81-c3b2decf1f97",
   "metadata": {},
   "outputs": [
    {
     "data": {
      "text/plain": [
       "bytearray"
      ]
     },
     "execution_count": 17,
     "metadata": {},
     "output_type": "execute_result"
    }
   ],
   "source": [
    "type(byte_arr)"
   ]
  },
  {
   "cell_type": "code",
   "execution_count": 19,
   "id": "a5ca8066-b266-4a44-bdba-fa6d930a35d5",
   "metadata": {},
   "outputs": [
    {
     "data": {
      "text/plain": [
       "bytearray(b'ABCDEF')"
      ]
     },
     "execution_count": 19,
     "metadata": {},
     "output_type": "execute_result"
    }
   ],
   "source": [
    " byte_arr"
   ]
  },
  {
   "cell_type": "code",
   "execution_count": 21,
   "id": "835130aa-b4ac-4b53-a898-8b72f4acbd25",
   "metadata": {},
   "outputs": [
    {
     "data": {
      "text/plain": [
       "<memory at 0x00000295AFF128C0>"
      ]
     },
     "execution_count": 21,
     "metadata": {},
     "output_type": "execute_result"
    }
   ],
   "source": [
    "memoryview(byte_arr)"
   ]
  },
  {
   "cell_type": "code",
   "execution_count": 23,
   "id": "8635fd09-cb08-41ec-9980-90e84ed2329e",
   "metadata": {},
   "outputs": [
    {
     "data": {
      "text/plain": [
       "65"
      ]
     },
     "execution_count": 23,
     "metadata": {},
     "output_type": "execute_result"
    }
   ],
   "source": [
    "memoryview( byte_arr)[0]"
   ]
  },
  {
   "cell_type": "code",
   "execution_count": 25,
   "id": "73ddd13b-0750-47a8-bf9f-6b3056186e1c",
   "metadata": {},
   "outputs": [],
   "source": [
    "swap = memoryview(byte_arr)\n",
    "swap[0] = 97"
   ]
  },
  {
   "cell_type": "code",
   "execution_count": 27,
   "id": "3109f20d-9ccf-4a79-8e50-24ed957d6213",
   "metadata": {},
   "outputs": [
    {
     "data": {
      "text/plain": [
       "97"
      ]
     },
     "execution_count": 27,
     "metadata": {},
     "output_type": "execute_result"
    }
   ],
   "source": [
    "memoryview( byte_arr)[0]"
   ]
  },
  {
   "cell_type": "code",
   "execution_count": 29,
   "id": "f575e7f4-2a0e-445b-a6ae-d5837a28c46f",
   "metadata": {},
   "outputs": [
    {
     "data": {
      "text/plain": [
       "66"
      ]
     },
     "execution_count": 29,
     "metadata": {},
     "output_type": "execute_result"
    }
   ],
   "source": [
    "swap[1]"
   ]
  },
  {
   "cell_type": "code",
   "execution_count": 31,
   "id": "788c6709-067a-4ce1-b3ba-89b2680fa5bf",
   "metadata": {},
   "outputs": [],
   "source": [
    "swap[1] = 67"
   ]
  },
  {
   "cell_type": "code",
   "execution_count": 33,
   "id": "88f6a2bb-8be3-4eb0-b1ae-464d9adf8b21",
   "metadata": {},
   "outputs": [
    {
     "data": {
      "text/plain": [
       "67"
      ]
     },
     "execution_count": 33,
     "metadata": {},
     "output_type": "execute_result"
    }
   ],
   "source": [
    "swap[1]"
   ]
  },
  {
   "cell_type": "code",
   "execution_count": 35,
   "id": "6c400723-0071-4e0c-9e0d-922d435d959f",
   "metadata": {},
   "outputs": [
    {
     "data": {
      "text/plain": [
       "bytearray(b'aCCDEF')"
      ]
     },
     "execution_count": 35,
     "metadata": {},
     "output_type": "execute_result"
    }
   ],
   "source": [
    "byte_arr"
   ]
  },
  {
   "cell_type": "code",
   "execution_count": null,
   "id": "7a34063d-6830-4d51-a4b3-9b988f5fbcc8",
   "metadata": {},
   "outputs": [],
   "source": [
    " "
   ]
  }
 ],
 "metadata": {
  "kernelspec": {
   "display_name": "Python [conda env:base] *",
   "language": "python",
   "name": "conda-base-py"
  },
  "language_info": {
   "codemirror_mode": {
    "name": "ipython",
    "version": 3
   },
   "file_extension": ".py",
   "mimetype": "text/x-python",
   "name": "python",
   "nbconvert_exporter": "python",
   "pygments_lexer": "ipython3",
   "version": "3.12.7"
  }
 },
 "nbformat": 4,
 "nbformat_minor": 5
}
