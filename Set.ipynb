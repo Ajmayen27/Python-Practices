{
 "cells": [
  {
   "cell_type": "code",
   "execution_count": 6,
   "id": "f1b74a0b-c345-4db1-8f89-8a93e51c3aca",
   "metadata": {},
   "outputs": [],
   "source": [
    " set1 = {'ai','ml',2,3,5,6,(7,8,9)}"
   ]
  },
  {
   "cell_type": "code",
   "execution_count": 8,
   "id": "1b506460-7269-4735-b75d-8cc59bf2a0da",
   "metadata": {},
   "outputs": [
    {
     "data": {
      "text/plain": [
       "set"
      ]
     },
     "execution_count": 8,
     "metadata": {},
     "output_type": "execute_result"
    }
   ],
   "source": [
    "type(set1)"
   ]
  },
  {
   "cell_type": "code",
   "execution_count": 10,
   "id": "f99a75f5-f10a-4662-ab4b-6c0a6279027e",
   "metadata": {},
   "outputs": [],
   "source": [
    "set2 = set()"
   ]
  },
  {
   "cell_type": "code",
   "execution_count": 12,
   "id": "0d6bdcdd-7e83-4ca4-a70f-56d0f6b3f663",
   "metadata": {},
   "outputs": [
    {
     "data": {
      "text/plain": [
       "set"
      ]
     },
     "execution_count": 12,
     "metadata": {},
     "output_type": "execute_result"
    }
   ],
   "source": [
    "type(set2)"
   ]
  },
  {
   "cell_type": "code",
   "execution_count": 14,
   "id": "bd4a56cb-abe2-49d9-8fc9-494461d36d18",
   "metadata": {},
   "outputs": [
    {
     "data": {
      "text/plain": [
       "set()"
      ]
     },
     "execution_count": 14,
     "metadata": {},
     "output_type": "execute_result"
    }
   ],
   "source": [
    "set2"
   ]
  },
  {
   "cell_type": "code",
   "execution_count": 16,
   "id": "94990881-5309-438b-b542-8fbc808d4e3c",
   "metadata": {},
   "outputs": [
    {
     "ename": "TypeError",
     "evalue": "'set' object is not subscriptable",
     "output_type": "error",
     "traceback": [
      "\u001b[1;31m---------------------------------------------------------------------------\u001b[0m",
      "\u001b[1;31mTypeError\u001b[0m                                 Traceback (most recent call last)",
      "Cell \u001b[1;32mIn[16], line 1\u001b[0m\n\u001b[1;32m----> 1\u001b[0m set1[\u001b[38;5;241m-\u001b[39m\u001b[38;5;241m1\u001b[39m]\n",
      "\u001b[1;31mTypeError\u001b[0m: 'set' object is not subscriptable"
     ]
    }
   ],
   "source": [
    "set1[-1]"
   ]
  },
  {
   "cell_type": "code",
   "execution_count": 18,
   "id": "3349ac50-b1d3-472e-b793-dc0898cb17ad",
   "metadata": {},
   "outputs": [],
   "source": [
    "set2.add(10)"
   ]
  },
  {
   "cell_type": "code",
   "execution_count": 20,
   "id": "11b0ca21-3aa2-4992-900b-2e2453123008",
   "metadata": {},
   "outputs": [
    {
     "data": {
      "text/plain": [
       "{10}"
      ]
     },
     "execution_count": 20,
     "metadata": {},
     "output_type": "execute_result"
    }
   ],
   "source": [
    "set2"
   ]
  },
  {
   "cell_type": "code",
   "execution_count": 22,
   "id": "3dbabe00-67aa-44a5-bfa4-068a6b44b8bb",
   "metadata": {},
   "outputs": [],
   "source": [
    "set2.update([20,30])"
   ]
  },
  {
   "cell_type": "code",
   "execution_count": 24,
   "id": "92095a10-8aef-4555-90c8-61f7bca83f76",
   "metadata": {},
   "outputs": [
    {
     "data": {
      "text/plain": [
       "{10, 20, 30}"
      ]
     },
     "execution_count": 24,
     "metadata": {},
     "output_type": "execute_result"
    }
   ],
   "source": [
    "set2"
   ]
  },
  {
   "cell_type": "code",
   "execution_count": 26,
   "id": "de3d3aff-06f6-4fae-8f3d-6ccc23c69cc7",
   "metadata": {},
   "outputs": [],
   "source": [
    "set2.update([10,40,50])"
   ]
  },
  {
   "cell_type": "code",
   "execution_count": 28,
   "id": "52b47fba-9ac8-4f64-9321-346831b08514",
   "metadata": {},
   "outputs": [
    {
     "data": {
      "text/plain": [
       "{10, 20, 30, 40, 50}"
      ]
     },
     "execution_count": 28,
     "metadata": {},
     "output_type": "execute_result"
    }
   ],
   "source": [
    "set2"
   ]
  },
  {
   "cell_type": "code",
   "execution_count": 30,
   "id": "a848d67c-8897-4947-abae-0e9fc1e3f00d",
   "metadata": {},
   "outputs": [],
   "source": [
    "set2.remove(10)"
   ]
  },
  {
   "cell_type": "code",
   "execution_count": 32,
   "id": "f7994462-fa49-493b-8b63-d599a3fec4af",
   "metadata": {},
   "outputs": [
    {
     "data": {
      "text/plain": [
       "{20, 30, 40, 50}"
      ]
     },
     "execution_count": 32,
     "metadata": {},
     "output_type": "execute_result"
    }
   ],
   "source": [
    "set2"
   ]
  },
  {
   "cell_type": "code",
   "execution_count": 34,
   "id": "8309b80f-7ff7-491e-a12e-8ab73fcabb6a",
   "metadata": {},
   "outputs": [],
   "source": [
    "set2.discard(10)"
   ]
  },
  {
   "cell_type": "code",
   "execution_count": 36,
   "id": "e1872539-e5c8-4466-81b3-701502de8a6a",
   "metadata": {},
   "outputs": [
    {
     "data": {
      "text/plain": [
       "{20, 30, 40, 50}"
      ]
     },
     "execution_count": 36,
     "metadata": {},
     "output_type": "execute_result"
    }
   ],
   "source": [
    "set2"
   ]
  },
  {
   "cell_type": "code",
   "execution_count": 38,
   "id": "8a2288db-d82d-4f4d-b116-feda4cb99b0c",
   "metadata": {},
   "outputs": [
    {
     "ename": "KeyError",
     "evalue": "10",
     "output_type": "error",
     "traceback": [
      "\u001b[1;31m---------------------------------------------------------------------------\u001b[0m",
      "\u001b[1;31mKeyError\u001b[0m                                  Traceback (most recent call last)",
      "Cell \u001b[1;32mIn[38], line 1\u001b[0m\n\u001b[1;32m----> 1\u001b[0m set2\u001b[38;5;241m.\u001b[39mremove(\u001b[38;5;241m10\u001b[39m)\n",
      "\u001b[1;31mKeyError\u001b[0m: 10"
     ]
    }
   ],
   "source": [
    "set2.remove(10)"
   ]
  },
  {
   "cell_type": "code",
   "execution_count": 40,
   "id": "1f4a614a-6570-41c3-8f52-aa58ca23d4bc",
   "metadata": {},
   "outputs": [],
   "source": [
    "set2.remove(20)"
   ]
  },
  {
   "cell_type": "code",
   "execution_count": 42,
   "id": "fc2b7c91-f69d-4786-9397-5f5d0061db10",
   "metadata": {},
   "outputs": [
    {
     "data": {
      "text/plain": [
       "{30, 40, 50}"
      ]
     },
     "execution_count": 42,
     "metadata": {},
     "output_type": "execute_result"
    }
   ],
   "source": [
    "set2"
   ]
  },
  {
   "cell_type": "code",
   "execution_count": 44,
   "id": "6426278f-b2ce-44c3-893e-4712ce446074",
   "metadata": {},
   "outputs": [],
   "source": [
    "set2.clear()"
   ]
  },
  {
   "cell_type": "code",
   "execution_count": 46,
   "id": "ae614347-bd20-4436-b596-28f5e65cbc1f",
   "metadata": {},
   "outputs": [
    {
     "data": {
      "text/plain": [
       "set()"
      ]
     },
     "execution_count": 46,
     "metadata": {},
     "output_type": "execute_result"
    }
   ],
   "source": [
    "set2"
   ]
  },
  {
   "cell_type": "code",
   "execution_count": null,
   "id": "27d008c3-165d-4e1f-92c5-351bb1b0f21b",
   "metadata": {},
   "outputs": [],
   "source": [
    "  "
   ]
  }
 ],
 "metadata": {
  "kernelspec": {
   "display_name": "Python [conda env:base] *",
   "language": "python",
   "name": "conda-base-py"
  },
  "language_info": {
   "codemirror_mode": {
    "name": "ipython",
    "version": 3
   },
   "file_extension": ".py",
   "mimetype": "text/x-python",
   "name": "python",
   "nbconvert_exporter": "python",
   "pygments_lexer": "ipython3",
   "version": "3.12.7"
  }
 },
 "nbformat": 4,
 "nbformat_minor": 5
}
