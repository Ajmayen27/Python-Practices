{
 "cells": [
  {
   "cell_type": "markdown",
   "id": "1dd9143b-919e-4e55-a55b-90dd1a471bcc",
   "metadata": {},
   "source": [
    "Lists"
   ]
  },
  {
   "cell_type": "markdown",
   "id": "ce895a09-279c-4d37-a9a4-024601ba994b",
   "metadata": {},
   "source": [
    "Copy"
   ]
  },
  {
   "cell_type": "code",
   "execution_count": 53,
   "id": "008410eb-f0b0-43dd-a62e-2ac56158d7f9",
   "metadata": {},
   "outputs": [],
   "source": [
    "list1 = ['ai','ds','ml',2,3,4,5,[22,33],(55,77)]"
   ]
  },
  {
   "cell_type": "code",
   "execution_count": 55,
   "id": "8c507ba8-b38e-416f-9db2-5407fe040790",
   "metadata": {},
   "outputs": [
    {
     "data": {
      "text/plain": [
       "['ai', 'ds', 'ml', 2, 3, 4, 5, [22, 33], (55, 77)]"
      ]
     },
     "execution_count": 55,
     "metadata": {},
     "output_type": "execute_result"
    }
   ],
   "source": [
    "list1"
   ]
  },
  {
   "cell_type": "code",
   "execution_count": 57,
   "id": "6c024b5f-7772-493f-a8d7-dc36deda942a",
   "metadata": {},
   "outputs": [],
   "source": [
    "list2 = list1"
   ]
  },
  {
   "cell_type": "code",
   "execution_count": 59,
   "id": "6d7179e5-8476-44a2-868d-6bea579c12b6",
   "metadata": {},
   "outputs": [
    {
     "data": {
      "text/plain": [
       "['ai', 'ds', 'ml', 2, 3, 4, 5, [22, 33], (55, 77)]"
      ]
     },
     "execution_count": 59,
     "metadata": {},
     "output_type": "execute_result"
    }
   ],
   "source": [
    "list2"
   ]
  },
  {
   "cell_type": "code",
   "execution_count": 61,
   "id": "055ac5f9-93c2-460e-8673-29437ea7c9f6",
   "metadata": {},
   "outputs": [],
   "source": [
    "list3 = list1.copy()"
   ]
  },
  {
   "cell_type": "code",
   "execution_count": 63,
   "id": "1d165bee-5bac-4175-b37f-70e4e16908ed",
   "metadata": {},
   "outputs": [],
   "source": [
    "list1[0] = 'dl'"
   ]
  },
  {
   "cell_type": "code",
   "execution_count": 65,
   "id": "83b5d674-b986-448c-b26f-beba4872d812",
   "metadata": {},
   "outputs": [
    {
     "data": {
      "text/plain": [
       "['dl', 'ds', 'ml', 2, 3, 4, 5, [22, 33], (55, 77)]"
      ]
     },
     "execution_count": 65,
     "metadata": {},
     "output_type": "execute_result"
    }
   ],
   "source": [
    "list1"
   ]
  },
  {
   "cell_type": "code",
   "execution_count": 67,
   "id": "cf3905d7-f15b-4d06-8921-a82862aa1ad4",
   "metadata": {},
   "outputs": [
    {
     "data": {
      "text/plain": [
       "['dl', 'ds', 'ml', 2, 3, 4, 5, [22, 33], (55, 77)]"
      ]
     },
     "execution_count": 67,
     "metadata": {},
     "output_type": "execute_result"
    }
   ],
   "source": [
    "list2"
   ]
  },
  {
   "cell_type": "code",
   "execution_count": 69,
   "id": "e5070a1e-ad6f-4c77-9e9b-d209b51e5db7",
   "metadata": {},
   "outputs": [
    {
     "data": {
      "text/plain": [
       "['ai', 'ds', 'ml', 2, 3, 4, 5, [22, 33], (55, 77)]"
      ]
     },
     "execution_count": 69,
     "metadata": {},
     "output_type": "execute_result"
    }
   ],
   "source": [
    "list3"
   ]
  },
  {
   "cell_type": "markdown",
   "id": "607095cc-1c63-4b6a-83d1-aae00938c4f3",
   "metadata": {},
   "source": [
    "Append"
   ]
  },
  {
   "cell_type": "code",
   "execution_count": 110,
   "id": "6c5bdb53-e2d3-4ff4-947b-e1849279412b",
   "metadata": {},
   "outputs": [],
   "source": [
    "list1.append('Apple')"
   ]
  },
  {
   "cell_type": "code",
   "execution_count": 112,
   "id": "ea083cd1-38dd-4b22-8062-5b2611702e81",
   "metadata": {},
   "outputs": [
    {
     "data": {
      "text/plain": [
       "['dl',\n",
       " 'ds',\n",
       " 'ml',\n",
       " 2,\n",
       " 3,\n",
       " 4,\n",
       " 5,\n",
       " [22, 33],\n",
       " (55, 77),\n",
       " 'Apple',\n",
       " True,\n",
       " [...],\n",
       " [...],\n",
       " [...],\n",
       " 'dl',\n",
       " 'ds',\n",
       " 'ml',\n",
       " 2,\n",
       " 3,\n",
       " 4,\n",
       " 5,\n",
       " [22, 33],\n",
       " (55, 77),\n",
       " 'Apple',\n",
       " True,\n",
       " [...],\n",
       " [...],\n",
       " [...],\n",
       " [...],\n",
       " 'Apple']"
      ]
     },
     "execution_count": 112,
     "metadata": {},
     "output_type": "execute_result"
    }
   ],
   "source": [
    "list1"
   ]
  },
  {
   "cell_type": "code",
   "execution_count": 114,
   "id": "1922d59a-7027-4acb-9d3a-eec4a681c3ec",
   "metadata": {},
   "outputs": [],
   "source": [
    "list1.append(True)"
   ]
  },
  {
   "cell_type": "code",
   "execution_count": 116,
   "id": "375b4193-d8c1-4c5a-9960-be41b82c12b9",
   "metadata": {},
   "outputs": [
    {
     "data": {
      "text/plain": [
       "['dl',\n",
       " 'ds',\n",
       " 'ml',\n",
       " 2,\n",
       " 3,\n",
       " 4,\n",
       " 5,\n",
       " [22, 33],\n",
       " (55, 77),\n",
       " 'Apple',\n",
       " True,\n",
       " [...],\n",
       " [...],\n",
       " [...],\n",
       " 'dl',\n",
       " 'ds',\n",
       " 'ml',\n",
       " 2,\n",
       " 3,\n",
       " 4,\n",
       " 5,\n",
       " [22, 33],\n",
       " (55, 77),\n",
       " 'Apple',\n",
       " True,\n",
       " [...],\n",
       " [...],\n",
       " [...],\n",
       " [...],\n",
       " 'Apple',\n",
       " True]"
      ]
     },
     "execution_count": 116,
     "metadata": {},
     "output_type": "execute_result"
    }
   ],
   "source": [
    "list1"
   ]
  },
  {
   "cell_type": "code",
   "execution_count": 118,
   "id": "f72d8cb6-201d-4003-89ba-3467c8a6b5ef",
   "metadata": {},
   "outputs": [
    {
     "data": {
      "text/plain": [
       "True"
      ]
     },
     "execution_count": 118,
     "metadata": {},
     "output_type": "execute_result"
    }
   ],
   "source": [
    "list1[-1]"
   ]
  },
  {
   "cell_type": "markdown",
   "id": "4141d508-a1c5-430c-9197-1248bb1c6b38",
   "metadata": {},
   "source": [
    "Extend"
   ]
  },
  {
   "cell_type": "code",
   "execution_count": 125,
   "id": "123b0ee1-7f42-484c-a199-1eb698f4254c",
   "metadata": {},
   "outputs": [
    {
     "data": {
      "text/plain": [
       "['ai', 'ds', 'ml', 2, 3, 4, 5, [22, 33], (55, 77)]"
      ]
     },
     "execution_count": 125,
     "metadata": {},
     "output_type": "execute_result"
    }
   ],
   "source": [
    "list3"
   ]
  },
  {
   "cell_type": "code",
   "execution_count": 127,
   "id": "18f64075-5b1f-4f20-be10-e6e0b0a3fb89",
   "metadata": {},
   "outputs": [],
   "source": [
    "list3.extend(list3)"
   ]
  },
  {
   "cell_type": "code",
   "execution_count": 129,
   "id": "3aa40fff-4180-443e-9277-d7df8253f13e",
   "metadata": {},
   "outputs": [
    {
     "data": {
      "text/plain": [
       "['ai',\n",
       " 'ds',\n",
       " 'ml',\n",
       " 2,\n",
       " 3,\n",
       " 4,\n",
       " 5,\n",
       " [22, 33],\n",
       " (55, 77),\n",
       " 'ai',\n",
       " 'ds',\n",
       " 'ml',\n",
       " 2,\n",
       " 3,\n",
       " 4,\n",
       " 5,\n",
       " [22, 33],\n",
       " (55, 77)]"
      ]
     },
     "execution_count": 129,
     "metadata": {},
     "output_type": "execute_result"
    }
   ],
   "source": [
    "list3"
   ]
  },
  {
   "cell_type": "code",
   "execution_count": 131,
   "id": "6c9eb945-4f4c-485c-b93c-785fc8787f33",
   "metadata": {},
   "outputs": [
    {
     "data": {
      "text/plain": [
       "(55, 77)"
      ]
     },
     "execution_count": 131,
     "metadata": {},
     "output_type": "execute_result"
    }
   ],
   "source": [
    "list3[-1]"
   ]
  },
  {
   "cell_type": "markdown",
   "id": "4c1c1c8f-15cf-4a1f-a678-e6fb21a7c265",
   "metadata": {},
   "source": [
    "Insert"
   ]
  },
  {
   "cell_type": "code",
   "execution_count": 134,
   "id": "d79c6081-31f3-4350-b9e4-9ade26593244",
   "metadata": {},
   "outputs": [],
   "source": [
    "list3.insert(0,'DIU')"
   ]
  },
  {
   "cell_type": "code",
   "execution_count": 136,
   "id": "48669ef0-25e3-46f4-86e0-fa748e18789c",
   "metadata": {},
   "outputs": [
    {
     "data": {
      "text/plain": [
       "['DIU',\n",
       " 'ai',\n",
       " 'ds',\n",
       " 'ml',\n",
       " 2,\n",
       " 3,\n",
       " 4,\n",
       " 5,\n",
       " [22, 33],\n",
       " (55, 77),\n",
       " 'ai',\n",
       " 'ds',\n",
       " 'ml',\n",
       " 2,\n",
       " 3,\n",
       " 4,\n",
       " 5,\n",
       " [22, 33],\n",
       " (55, 77)]"
      ]
     },
     "execution_count": 136,
     "metadata": {},
     "output_type": "execute_result"
    }
   ],
   "source": [
    "list3\n"
   ]
  },
  {
   "cell_type": "code",
   "execution_count": 138,
   "id": "25dce630-f5b3-4669-8022-524da27019ef",
   "metadata": {},
   "outputs": [],
   "source": [
    "list3[1] = 'NSU' "
   ]
  },
  {
   "cell_type": "code",
   "execution_count": 147,
   "id": "e90f0d26-ce42-4b68-89a3-fd52f65cea6f",
   "metadata": {},
   "outputs": [
    {
     "data": {
      "text/plain": [
       "['DIU',\n",
       " 'NSU',\n",
       " 'ds',\n",
       " 'ml',\n",
       " 2,\n",
       " 3,\n",
       " 4,\n",
       " 5,\n",
       " [22, 33],\n",
       " (55, 77),\n",
       " 'ai',\n",
       " 'ds',\n",
       " 'ml',\n",
       " 2,\n",
       " 3,\n",
       " 4,\n",
       " 5,\n",
       " [22, 33],\n",
       " (55, 77)]"
      ]
     },
     "execution_count": 147,
     "metadata": {},
     "output_type": "execute_result"
    }
   ],
   "source": [
    "list3"
   ]
  },
  {
   "cell_type": "markdown",
   "id": "d761602f-2c24-495c-9773-787357728796",
   "metadata": {},
   "source": [
    "index"
   ]
  },
  {
   "cell_type": "code",
   "execution_count": 152,
   "id": "7a174123-5436-4f4d-a893-92e79e602eb5",
   "metadata": {},
   "outputs": [
    {
     "data": {
      "text/plain": [
       "0"
      ]
     },
     "execution_count": 152,
     "metadata": {},
     "output_type": "execute_result"
    }
   ],
   "source": [
    "list3.index('DIU')"
   ]
  },
  {
   "cell_type": "markdown",
   "id": "d896e260-ed39-4edf-9d6c-b4554d811647",
   "metadata": {},
   "source": [
    "Count"
   ]
  },
  {
   "cell_type": "code",
   "execution_count": 155,
   "id": "dcca8daf-38e6-4f58-9d7e-468c4114fe98",
   "metadata": {},
   "outputs": [
    {
     "data": {
      "text/plain": [
       "2"
      ]
     },
     "execution_count": 155,
     "metadata": {},
     "output_type": "execute_result"
    }
   ],
   "source": [
    "list3.count('ds')"
   ]
  },
  {
   "cell_type": "code",
   "execution_count": 159,
   "id": "e0ac8185-4a0e-4267-b6ad-500a8d45f68a",
   "metadata": {},
   "outputs": [
    {
     "data": {
      "text/plain": [
       "1"
      ]
     },
     "execution_count": 159,
     "metadata": {},
     "output_type": "execute_result"
    }
   ],
   "source": [
    "list3.count('ai')"
   ]
  },
  {
   "cell_type": "markdown",
   "id": "71f63d87-3350-4448-99a5-a6c28bc30ff0",
   "metadata": {},
   "source": [
    "Sort"
   ]
  },
  {
   "cell_type": "code",
   "execution_count": 181,
   "id": "01e378e3-e0bb-41bd-b39c-5e54512646f4",
   "metadata": {},
   "outputs": [],
   "source": [
    "list4 = [9,6,4,5,6,1,2,3]"
   ]
  },
  {
   "cell_type": "code",
   "execution_count": 183,
   "id": "a2952cb6-26ad-48e9-aebb-b2bfecc6d9c9",
   "metadata": {},
   "outputs": [],
   "source": [
    "list4.sort()"
   ]
  },
  {
   "cell_type": "code",
   "execution_count": 185,
   "id": "1f231c09-fdde-4ec6-859e-a52bd055e26e",
   "metadata": {},
   "outputs": [
    {
     "data": {
      "text/plain": [
       "[1, 2, 3, 4, 5, 6, 6, 9]"
      ]
     },
     "execution_count": 185,
     "metadata": {},
     "output_type": "execute_result"
    }
   ],
   "source": [
    "list4"
   ]
  },
  {
   "cell_type": "markdown",
   "id": "b68768bc-291d-4e9c-8883-e6778e66da79",
   "metadata": {},
   "source": [
    "Reverse"
   ]
  },
  {
   "cell_type": "code",
   "execution_count": 190,
   "id": "4df9fc94-a979-47d1-8baf-24a1feac05b1",
   "metadata": {},
   "outputs": [],
   "source": [
    "list5 =  [2,3,4,5,7,'a','ty']"
   ]
  },
  {
   "cell_type": "code",
   "execution_count": 192,
   "id": "4423adb1-8bfa-4ad0-8266-ceae10722884",
   "metadata": {},
   "outputs": [],
   "source": [
    "list5.reverse()"
   ]
  },
  {
   "cell_type": "code",
   "execution_count": 194,
   "id": "5d91d51f-3a9a-4802-ba92-547c2a9463f1",
   "metadata": {},
   "outputs": [
    {
     "data": {
      "text/plain": [
       "['ty', 'a', 7, 5, 4, 3, 2]"
      ]
     },
     "execution_count": 194,
     "metadata": {},
     "output_type": "execute_result"
    }
   ],
   "source": [
    "list5"
   ]
  },
  {
   "cell_type": "code",
   "execution_count": 196,
   "id": "f37fe47a-9bde-4754-894f-21ef7a7abdad",
   "metadata": {},
   "outputs": [],
   "source": [
    "list5.remove('ty')"
   ]
  },
  {
   "cell_type": "code",
   "execution_count": 198,
   "id": "23272a8d-99f0-4ecf-83d8-2bee3e20a719",
   "metadata": {},
   "outputs": [
    {
     "data": {
      "text/plain": [
       "['a', 7, 5, 4, 3, 2]"
      ]
     },
     "execution_count": 198,
     "metadata": {},
     "output_type": "execute_result"
    }
   ],
   "source": [
    "list5"
   ]
  },
  {
   "cell_type": "code",
   "execution_count": 200,
   "id": "9a842f41-6846-416d-90dd-8e015c513859",
   "metadata": {},
   "outputs": [
    {
     "data": {
      "text/plain": [
       "'a'"
      ]
     },
     "execution_count": 200,
     "metadata": {},
     "output_type": "execute_result"
    }
   ],
   "source": [
    "list5.pop(0)"
   ]
  },
  {
   "cell_type": "code",
   "execution_count": 202,
   "id": "0421649b-f2ce-449a-87a7-995a02fdd2b6",
   "metadata": {},
   "outputs": [
    {
     "data": {
      "text/plain": [
       "[7, 5, 4, 3, 2]"
      ]
     },
     "execution_count": 202,
     "metadata": {},
     "output_type": "execute_result"
    }
   ],
   "source": [
    "list5"
   ]
  },
  {
   "cell_type": "code",
   "execution_count": 204,
   "id": "5d317f57-4123-4e3f-bb3a-aad5444147dd",
   "metadata": {},
   "outputs": [],
   "source": [
    "list1.clear()"
   ]
  },
  {
   "cell_type": "code",
   "execution_count": 206,
   "id": "fd02b700-b317-4e64-82c8-b7a2eec92add",
   "metadata": {},
   "outputs": [
    {
     "data": {
      "text/plain": [
       "[]"
      ]
     },
     "execution_count": 206,
     "metadata": {},
     "output_type": "execute_result"
    }
   ],
   "source": [
    "list1"
   ]
  },
  {
   "cell_type": "code",
   "execution_count": 208,
   "id": "45ec7cfa-87f5-4450-bceb-79825d1325ae",
   "metadata": {},
   "outputs": [
    {
     "data": {
      "text/plain": [
       "[7, 5, 4, 3, 2]"
      ]
     },
     "execution_count": 208,
     "metadata": {},
     "output_type": "execute_result"
    }
   ],
   "source": [
    " list5"
   ]
  },
  {
   "cell_type": "code",
   "execution_count": 212,
   "id": "dd335357-5f4d-4dd9-81b0-d14031edb4af",
   "metadata": {},
   "outputs": [],
   "source": [
    "del list5[0]"
   ]
  },
  {
   "cell_type": "code",
   "execution_count": 214,
   "id": "aaa5cd98-9ff1-4c0e-bda8-d16b39093af7",
   "metadata": {},
   "outputs": [
    {
     "data": {
      "text/plain": [
       "[5, 4, 3, 2]"
      ]
     },
     "execution_count": 214,
     "metadata": {},
     "output_type": "execute_result"
    }
   ],
   "source": [
    "list5"
   ]
  },
  {
   "cell_type": "code",
   "execution_count": null,
   "id": "cf092237-44d1-49d9-a60b-7971b2e93587",
   "metadata": {},
   "outputs": [],
   "source": []
  }
 ],
 "metadata": {
  "kernelspec": {
   "display_name": "Python [conda env:base] *",
   "language": "python",
   "name": "conda-base-py"
  },
  "language_info": {
   "codemirror_mode": {
    "name": "ipython",
    "version": 3
   },
   "file_extension": ".py",
   "mimetype": "text/x-python",
   "name": "python",
   "nbconvert_exporter": "python",
   "pygments_lexer": "ipython3",
   "version": "3.12.7"
  }
 },
 "nbformat": 4,
 "nbformat_minor": 5
}
