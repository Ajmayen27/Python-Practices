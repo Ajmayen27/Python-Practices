{
 "cells": [
  {
   "cell_type": "code",
   "execution_count": null,
   "id": "a5138831-eccc-4bfd-ba15-7a957c4102f7",
   "metadata": {},
   "outputs": [],
   "source": [
    "String"
   ]
  },
  {
   "cell_type": "code",
   "execution_count": 7,
   "id": "13a76479-06cd-454d-872d-c2087f8999c7",
   "metadata": {},
   "outputs": [
    {
     "data": {
      "text/plain": [
       "6"
      ]
     },
     "execution_count": 7,
     "metadata": {},
     "output_type": "execute_result"
    }
   ],
   "source": [
    "data = 'Hello Im learning python now'\n",
    "data.find('Im')"
   ]
  },
  {
   "cell_type": "code",
   "execution_count": 9,
   "id": "3ca854d1-5de7-44d4-9f02-4db39bc727ed",
   "metadata": {},
   "outputs": [
    {
     "data": {
      "text/plain": [
       "18"
      ]
     },
     "execution_count": 9,
     "metadata": {},
     "output_type": "execute_result"
    }
   ],
   "source": [
    "data.find('p')"
   ]
  },
  {
   "cell_type": "code",
   "execution_count": 11,
   "id": "a442a655-a74f-465a-be0d-bbe5db1902b1",
   "metadata": {},
   "outputs": [
    {
     "data": {
      "text/plain": [
       "4"
      ]
     },
     "execution_count": 11,
     "metadata": {},
     "output_type": "execute_result"
    }
   ],
   "source": [
    "data.find('o',0,5)"
   ]
  },
  {
   "cell_type": "code",
   "execution_count": 13,
   "id": "d9eba3d1-d743-4506-9e57-d44f8923df80",
   "metadata": {},
   "outputs": [
    {
     "data": {
      "text/plain": [
       "-1"
      ]
     },
     "execution_count": 13,
     "metadata": {},
     "output_type": "execute_result"
    }
   ],
   "source": [
    "data.find('o',5,10)"
   ]
  },
  {
   "cell_type": "code",
   "execution_count": 21,
   "id": "83fbe765-fff2-4e2e-9e45-95ce0f278640",
   "metadata": {},
   "outputs": [
    {
     "data": {
      "text/plain": [
       "22"
      ]
     },
     "execution_count": 21,
     "metadata": {},
     "output_type": "execute_result"
    }
   ],
   "source": [
    "data.find('o',5,25)"
   ]
  },
  {
   "cell_type": "code",
   "execution_count": 23,
   "id": "ff95b276-f92c-43d3-8a6f-6faa56b1aa14",
   "metadata": {},
   "outputs": [
    {
     "data": {
      "text/plain": [
       "'hello im learning python now'"
      ]
     },
     "execution_count": 23,
     "metadata": {},
     "output_type": "execute_result"
    }
   ],
   "source": [
    "data.lower()"
   ]
  },
  {
   "cell_type": "code",
   "execution_count": 25,
   "id": "da3ce8b8-8dcb-4dc4-a753-fd6df88153a2",
   "metadata": {},
   "outputs": [
    {
     "data": {
      "text/plain": [
       "'HELLO IM LEARNING PYTHON NOW'"
      ]
     },
     "execution_count": 25,
     "metadata": {},
     "output_type": "execute_result"
    }
   ],
   "source": [
    "data.upper()"
   ]
  },
  {
   "cell_type": "code",
   "execution_count": 27,
   "id": "4a02193c-7422-491e-af51-1e6ca9a56b7d",
   "metadata": {},
   "outputs": [
    {
     "data": {
      "text/plain": [
       "'hello im learning python now'"
      ]
     },
     "execution_count": 27,
     "metadata": {},
     "output_type": "execute_result"
    }
   ],
   "source": [
    "data.casefold()"
   ]
  },
  {
   "cell_type": "code",
   "execution_count": 29,
   "id": "633cf52e-2d46-4fb3-8438-c6fd7da6f537",
   "metadata": {},
   "outputs": [
    {
     "data": {
      "text/plain": [
       "'Hello im learning python now'"
      ]
     },
     "execution_count": 29,
     "metadata": {},
     "output_type": "execute_result"
    }
   ],
   "source": [
    "data.capitalize()"
   ]
  },
  {
   "cell_type": "code",
   "execution_count": 31,
   "id": "f8dba071-c7a3-4a2e-acc7-eaabd50ed88e",
   "metadata": {},
   "outputs": [],
   "source": [
    "new = 'Hello daTa ScIence is fun'"
   ]
  },
  {
   "cell_type": "code",
   "execution_count": 35,
   "id": "41791216-3b5b-4941-be3f-e9e2cac247c7",
   "metadata": {},
   "outputs": [
    {
     "data": {
      "text/plain": [
       "'hELLO DAtA sCiENCE IS FUN'"
      ]
     },
     "execution_count": 35,
     "metadata": {},
     "output_type": "execute_result"
    }
   ],
   "source": [
    "new.swapcase()"
   ]
  },
  {
   "cell_type": "code",
   "execution_count": 37,
   "id": "3f617371-41f1-40c8-849c-ec838ae7e1a4",
   "metadata": {},
   "outputs": [
    {
     "data": {
      "text/plain": [
       "'Hello Data Science Is Fun'"
      ]
     },
     "execution_count": 37,
     "metadata": {},
     "output_type": "execute_result"
    }
   ],
   "source": [
    "new.title()"
   ]
  },
  {
   "cell_type": "code",
   "execution_count": 41,
   "id": "9a423a74-d8df-4e39-9dc8-f3a5e8b94dd4",
   "metadata": {},
   "outputs": [
    {
     "data": {
      "text/plain": [
       "False"
      ]
     },
     "execution_count": 41,
     "metadata": {},
     "output_type": "execute_result"
    }
   ],
   "source": [
    "new.islower()"
   ]
  },
  {
   "cell_type": "code",
   "execution_count": 43,
   "id": "85f8cb84-1468-4f59-9a8d-6d007b6938a3",
   "metadata": {},
   "outputs": [
    {
     "data": {
      "text/plain": [
       "'HELLO DATA SCIENCE IS FUN'"
      ]
     },
     "execution_count": 43,
     "metadata": {},
     "output_type": "execute_result"
    }
   ],
   "source": [
    "new.upper()"
   ]
  },
  {
   "cell_type": "code",
   "execution_count": 45,
   "id": "683f786a-f26b-40e3-8c3d-9b66dba50132",
   "metadata": {},
   "outputs": [
    {
     "data": {
      "text/plain": [
       "False"
      ]
     },
     "execution_count": 45,
     "metadata": {},
     "output_type": "execute_result"
    }
   ],
   "source": [
    "new.isupper()"
   ]
  },
  {
   "cell_type": "code",
   "execution_count": 47,
   "id": "bcfe8a78-2e41-4fec-b248-e2adbdb92d85",
   "metadata": {},
   "outputs": [
    {
     "data": {
      "text/plain": [
       "b'Hello daTa ScIence is fun'"
      ]
     },
     "execution_count": 47,
     "metadata": {},
     "output_type": "execute_result"
    }
   ],
   "source": [
    "new.encode()"
   ]
  },
  {
   "cell_type": "code",
   "execution_count": 49,
   "id": "765b40f8-9619-42d3-a8c1-0a42a105c571",
   "metadata": {},
   "outputs": [
    {
     "data": {
      "text/plain": [
       "builtin_function_or_method"
      ]
     },
     "execution_count": 49,
     "metadata": {},
     "output_type": "execute_result"
    }
   ],
   "source": [
    "type(new.encode)"
   ]
  },
  {
   "cell_type": "code",
   "execution_count": 51,
   "id": "b498961e-54c4-43a0-9689-85af836ba439",
   "metadata": {},
   "outputs": [
    {
     "data": {
      "text/plain": [
       "['Hello', 'daTa', 'ScIence', 'is', 'fun']"
      ]
     },
     "execution_count": 51,
     "metadata": {},
     "output_type": "execute_result"
    }
   ],
   "source": [
    "new.split()"
   ]
  },
  {
   "cell_type": "code",
   "execution_count": 55,
   "id": "8fd1330d-3cf6-4da4-a4ab-94e5a12e4000",
   "metadata": {},
   "outputs": [
    {
     "data": {
      "text/plain": [
       "'Hello'"
      ]
     },
     "execution_count": 55,
     "metadata": {},
     "output_type": "execute_result"
    }
   ],
   "source": [
    "new.split()[0]"
   ]
  },
  {
   "cell_type": "code",
   "execution_count": 57,
   "id": "969ddcd5-a3ac-42ce-9acf-88f241c036f1",
   "metadata": {},
   "outputs": [
    {
     "data": {
      "text/plain": [
       "'is'"
      ]
     },
     "execution_count": 57,
     "metadata": {},
     "output_type": "execute_result"
    }
   ],
   "source": [
    "new.split()[3]"
   ]
  },
  {
   "cell_type": "code",
   "execution_count": 59,
   "id": "04a340a8-a1ee-472e-a2d4-381097e33b17",
   "metadata": {},
   "outputs": [
    {
     "data": {
      "text/plain": [
       "'            Hello daTa ScIence is fun             '"
      ]
     },
     "execution_count": 59,
     "metadata": {},
     "output_type": "execute_result"
    }
   ],
   "source": [
    "new.center(50)"
   ]
  },
  {
   "cell_type": "code",
   "execution_count": 61,
   "id": "e2f89438-dbe7-4d9a-98e5-006a05f009b0",
   "metadata": {},
   "outputs": [
    {
     "data": {
      "text/plain": [
       "'Hi daTa ScIence is fun'"
      ]
     },
     "execution_count": 61,
     "metadata": {},
     "output_type": "execute_result"
    }
   ],
   "source": [
    "new.replace('Hello','Hi')"
   ]
  },
  {
   "cell_type": "code",
   "execution_count": 63,
   "id": "09fcd0a6-0af7-4494-a8ba-ada22d05bb8d",
   "metadata": {},
   "outputs": [
    {
     "data": {
      "text/plain": [
       "'Hello daTa ScIence is enjoyable'"
      ]
     },
     "execution_count": 63,
     "metadata": {},
     "output_type": "execute_result"
    }
   ],
   "source": [
    "new.replace('fun','enjoyable')"
   ]
  },
  {
   "cell_type": "code",
   "execution_count": 65,
   "id": "91834fd4-1df6-42d3-ad7a-d86e63c62d28",
   "metadata": {},
   "outputs": [
    {
     "name": "stdout",
     "output_type": "stream",
     "text": [
      "I have in total 150 take\n"
     ]
    }
   ],
   "source": [
    "x = 10\n",
    "y = 15\n",
    "z = x*y\n",
    "print('I have in total {} take'.format(z))"
   ]
  },
  {
   "cell_type": "code",
   "execution_count": null,
   "id": "723d7390-aaf0-4083-b100-52d7c4dd794b",
   "metadata": {},
   "outputs": [],
   "source": []
  }
 ],
 "metadata": {
  "kernelspec": {
   "display_name": "Python [conda env:base] *",
   "language": "python",
   "name": "conda-base-py"
  },
  "language_info": {
   "codemirror_mode": {
    "name": "ipython",
    "version": 3
   },
   "file_extension": ".py",
   "mimetype": "text/x-python",
   "name": "python",
   "nbconvert_exporter": "python",
   "pygments_lexer": "ipython3",
   "version": "3.12.7"
  }
 },
 "nbformat": 4,
 "nbformat_minor": 5
}
