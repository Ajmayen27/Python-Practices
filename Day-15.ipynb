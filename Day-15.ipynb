{
 "cells": [
  {
   "cell_type": "markdown",
   "id": "c98b13f6-2dfb-42ce-9416-38ab87a0579c",
   "metadata": {},
   "source": [
    "Tuple in Python"
   ]
  },
  {
   "cell_type": "code",
   "execution_count": 2,
   "id": "21385736-5e1d-42d1-bb1f-5582e18a68ef",
   "metadata": {},
   "outputs": [],
   "source": [
    "tup = ('nsu')"
   ]
  },
  {
   "cell_type": "code",
   "execution_count": 4,
   "id": "43690979-9252-4f99-8eef-2ccd0d68943e",
   "metadata": {},
   "outputs": [
    {
     "data": {
      "text/plain": [
       "str"
      ]
     },
     "execution_count": 4,
     "metadata": {},
     "output_type": "execute_result"
    }
   ],
   "source": [
    "type(tup)"
   ]
  },
  {
   "cell_type": "code",
   "execution_count": 6,
   "id": "ab27b9ea-57fa-4c59-ac56-1032ffca7f7e",
   "metadata": {},
   "outputs": [],
   "source": [
    "tup = ('nsu',)"
   ]
  },
  {
   "cell_type": "code",
   "execution_count": 8,
   "id": "cdbe9e89-293c-46e3-a3b2-f581c34c2bb7",
   "metadata": {},
   "outputs": [
    {
     "data": {
      "text/plain": [
       "tuple"
      ]
     },
     "execution_count": 8,
     "metadata": {},
     "output_type": "execute_result"
    }
   ],
   "source": [
    "type(tup)"
   ]
  },
  {
   "cell_type": "code",
   "execution_count": 10,
   "id": "2afa8172-3e59-42b4-b591-cb4940ead20c",
   "metadata": {},
   "outputs": [],
   "source": [
    "tup1 = ('nsu','diu',1,23,3,4,5,6,[22,4,5],True)"
   ]
  },
  {
   "cell_type": "code",
   "execution_count": 12,
   "id": "87b46c1e-5ebe-4910-8890-80c7bd00d47d",
   "metadata": {},
   "outputs": [
    {
     "data": {
      "text/plain": [
       "('nsu', 'diu', 1, 23, 3, 4, 5, 6, [22, 4, 5], True)"
      ]
     },
     "execution_count": 12,
     "metadata": {},
     "output_type": "execute_result"
    }
   ],
   "source": [
    "tup1"
   ]
  },
  {
   "cell_type": "code",
   "execution_count": 14,
   "id": "323f5e28-a81e-40cd-b43b-6a7c331bc687",
   "metadata": {},
   "outputs": [],
   "source": [
    "l = list(tup1)"
   ]
  },
  {
   "cell_type": "code",
   "execution_count": 16,
   "id": "2ea48af1-7e16-4d13-80be-9911f129f564",
   "metadata": {},
   "outputs": [
    {
     "data": {
      "text/plain": [
       "['nsu', 'diu', 1, 23, 3, 4, 5, 6, [22, 4, 5], True]"
      ]
     },
     "execution_count": 16,
     "metadata": {},
     "output_type": "execute_result"
    }
   ],
   "source": [
    "l"
   ]
  },
  {
   "cell_type": "code",
   "execution_count": 18,
   "id": "42ba8d32-ee6e-4931-a667-ce92926e3eaa",
   "metadata": {},
   "outputs": [],
   "source": [
    "l.append('aiub')"
   ]
  },
  {
   "cell_type": "code",
   "execution_count": 20,
   "id": "f1bfd9be-8ab7-4d83-a33b-62efa31acb28",
   "metadata": {},
   "outputs": [
    {
     "data": {
      "text/plain": [
       "['nsu', 'diu', 1, 23, 3, 4, 5, 6, [22, 4, 5], True, 'aiub']"
      ]
     },
     "execution_count": 20,
     "metadata": {},
     "output_type": "execute_result"
    }
   ],
   "source": [
    "l"
   ]
  },
  {
   "cell_type": "code",
   "execution_count": 22,
   "id": "8b98310f-8e01-4537-8871-b144c99f44cc",
   "metadata": {},
   "outputs": [],
   "source": [
    "tup2 = tuple(l)"
   ]
  },
  {
   "cell_type": "code",
   "execution_count": 24,
   "id": "d381c9b7-dc60-41e5-8add-5db67d09cfbb",
   "metadata": {},
   "outputs": [
    {
     "data": {
      "text/plain": [
       "('nsu', 'diu', 1, 23, 3, 4, 5, 6, [22, 4, 5], True, 'aiub')"
      ]
     },
     "execution_count": 24,
     "metadata": {},
     "output_type": "execute_result"
    }
   ],
   "source": [
    "tup2"
   ]
  },
  {
   "cell_type": "code",
   "execution_count": 26,
   "id": "d094e5ad-376a-48c6-84f6-a76799d9b550",
   "metadata": {},
   "outputs": [],
   "source": [
    "tup4 = 'Ajmayen','Fayek',2,3,4"
   ]
  },
  {
   "cell_type": "code",
   "execution_count": 28,
   "id": "752680d5-e19d-4ae0-919c-1ddce0f6bb1c",
   "metadata": {},
   "outputs": [
    {
     "data": {
      "text/plain": [
       "('Ajmayen', 'Fayek', 2, 3, 4)"
      ]
     },
     "execution_count": 28,
     "metadata": {},
     "output_type": "execute_result"
    }
   ],
   "source": [
    "tup4"
   ]
  },
  {
   "cell_type": "code",
   "execution_count": 30,
   "id": "3aca9ace-9c51-41a1-acda-c1a5d80abfd7",
   "metadata": {},
   "outputs": [
    {
     "data": {
      "text/plain": [
       "tuple"
      ]
     },
     "execution_count": 30,
     "metadata": {},
     "output_type": "execute_result"
    }
   ],
   "source": [
    "type(tup4)"
   ]
  },
  {
   "cell_type": "code",
   "execution_count": 32,
   "id": "3fa800c2-407c-472f-9ed7-ed16710c588e",
   "metadata": {},
   "outputs": [],
   "source": [
    "tup5 = 'Aj'"
   ]
  },
  {
   "cell_type": "code",
   "execution_count": 34,
   "id": "4225937e-4b45-4455-b0ef-7df7af0b73bb",
   "metadata": {},
   "outputs": [
    {
     "data": {
      "text/plain": [
       "str"
      ]
     },
     "execution_count": 34,
     "metadata": {},
     "output_type": "execute_result"
    }
   ],
   "source": [
    "type(tup5)"
   ]
  },
  {
   "cell_type": "code",
   "execution_count": 36,
   "id": "7d6d8825-d805-47c7-b7da-ee51eeb6112c",
   "metadata": {},
   "outputs": [],
   "source": [
    "tup5 = 'Aj',"
   ]
  },
  {
   "cell_type": "code",
   "execution_count": 38,
   "id": "1b240504-28f9-440c-bc66-139d44e97583",
   "metadata": {},
   "outputs": [
    {
     "data": {
      "text/plain": [
       "tuple"
      ]
     },
     "execution_count": 38,
     "metadata": {},
     "output_type": "execute_result"
    }
   ],
   "source": [
    "type(tup5)"
   ]
  },
  {
   "cell_type": "code",
   "execution_count": 40,
   "id": "dc61dd59-4eae-4c6f-9e11-a21a354bfca6",
   "metadata": {},
   "outputs": [
    {
     "data": {
      "text/plain": [
       "('Ajmayen', 'Fayek', 2, 3, 4, 'Aj')"
      ]
     },
     "execution_count": 40,
     "metadata": {},
     "output_type": "execute_result"
    }
   ],
   "source": [
    "tup4+tup5"
   ]
  },
  {
   "cell_type": "code",
   "execution_count": 42,
   "id": "b9d29a6a-7dfa-4eec-b24a-29b1cc5102f1",
   "metadata": {},
   "outputs": [
    {
     "data": {
      "text/plain": [
       "('Ajmayen',\n",
       " 'Fayek',\n",
       " 2,\n",
       " 3,\n",
       " 4,\n",
       " 'Ajmayen',\n",
       " 'Fayek',\n",
       " 2,\n",
       " 3,\n",
       " 4,\n",
       " 'Ajmayen',\n",
       " 'Fayek',\n",
       " 2,\n",
       " 3,\n",
       " 4)"
      ]
     },
     "execution_count": 42,
     "metadata": {},
     "output_type": "execute_result"
    }
   ],
   "source": [
    "tup4*3"
   ]
  },
  {
   "cell_type": "code",
   "execution_count": 44,
   "id": "babcbf4f-78b2-438b-a2da-795d1d659584",
   "metadata": {},
   "outputs": [
    {
     "data": {
      "text/plain": [
       "1"
      ]
     },
     "execution_count": 44,
     "metadata": {},
     "output_type": "execute_result"
    }
   ],
   "source": [
    "tup4.count(2)"
   ]
  },
  {
   "cell_type": "code",
   "execution_count": 46,
   "id": "5993dabb-6d1b-456e-a381-11d635cb5b56",
   "metadata": {},
   "outputs": [
    {
     "data": {
      "text/plain": [
       "1"
      ]
     },
     "execution_count": 46,
     "metadata": {},
     "output_type": "execute_result"
    }
   ],
   "source": [
    "tup4.index('Fayek')"
   ]
  },
  {
   "cell_type": "markdown",
   "id": "60ccb7f0-29bb-4da0-a971-dae84555ccb6",
   "metadata": {},
   "source": [
    "Membership in Tuple"
   ]
  },
  {
   "cell_type": "code",
   "execution_count": 50,
   "id": "a60b8ce9-a889-4a09-a109-e8ffeaa2077d",
   "metadata": {},
   "outputs": [
    {
     "data": {
      "text/plain": [
       "True"
      ]
     },
     "execution_count": 50,
     "metadata": {},
     "output_type": "execute_result"
    }
   ],
   "source": [
    "'Ajmayen' in tup4"
   ]
  },
  {
   "cell_type": "code",
   "execution_count": 54,
   "id": "d2a06f0d-c7c9-421b-82ce-0c8d77e07994",
   "metadata": {},
   "outputs": [],
   "source": [
    "del tup1"
   ]
  },
  {
   "cell_type": "code",
   "execution_count": 56,
   "id": "08c32c5c-09b6-431f-9fe0-5a4c8965d8ff",
   "metadata": {},
   "outputs": [
    {
     "ename": "NameError",
     "evalue": "name 'tup1' is not defined",
     "output_type": "error",
     "traceback": [
      "\u001b[1;31m---------------------------------------------------------------------------\u001b[0m",
      "\u001b[1;31mNameError\u001b[0m                                 Traceback (most recent call last)",
      "Cell \u001b[1;32mIn[56], line 1\u001b[0m\n\u001b[1;32m----> 1\u001b[0m tup1\n",
      "\u001b[1;31mNameError\u001b[0m: name 'tup1' is not defined"
     ]
    }
   ],
   "source": [
    "tup1"
   ]
  },
  {
   "cell_type": "code",
   "execution_count": 58,
   "id": "6ef8c293-c871-4912-adc8-08137e4a4097",
   "metadata": {},
   "outputs": [
    {
     "name": "stdout",
     "output_type": "stream",
     "text": [
      "Ajmayen\n",
      "Fayek\n",
      "2\n",
      "3\n",
      "4\n"
     ]
    }
   ],
   "source": [
    "for i in tup4:\n",
    "    print(i)"
   ]
  },
  {
   "cell_type": "markdown",
   "id": "4aa1b7b8-e6c6-47f6-ae43-fa99fbdadaee",
   "metadata": {},
   "source": [
    "Tuple is more faster than list"
   ]
  },
  {
   "cell_type": "code",
   "execution_count": null,
   "id": "63dd126a-6ccb-4243-aa9d-4cc4c9cad85c",
   "metadata": {},
   "outputs": [],
   "source": []
  }
 ],
 "metadata": {
  "kernelspec": {
   "display_name": "Python [conda env:base] *",
   "language": "python",
   "name": "conda-base-py"
  },
  "language_info": {
   "codemirror_mode": {
    "name": "ipython",
    "version": 3
   },
   "file_extension": ".py",
   "mimetype": "text/x-python",
   "name": "python",
   "nbconvert_exporter": "python",
   "pygments_lexer": "ipython3",
   "version": "3.12.7"
  }
 },
 "nbformat": 4,
 "nbformat_minor": 5
}
