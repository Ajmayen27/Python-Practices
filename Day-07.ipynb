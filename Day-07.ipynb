{
 "cells": [
  {
   "cell_type": "markdown",
   "id": "707815d0-da94-40f7-9f11-b536188f9d86",
   "metadata": {},
   "source": [
    "Conditional Statement"
   ]
  },
  {
   "cell_type": "code",
   "execution_count": 1,
   "id": "0494859f-9701-4e9d-9865-221e777bb790",
   "metadata": {},
   "outputs": [
    {
     "name": "stdout",
     "output_type": "stream",
     "text": [
      "x is greater than y \n"
     ]
    }
   ],
   "source": [
    " x = 40\n",
    " y = 30\n",
    "\n",
    " if x < y:\n",
    "     print('Y is greater than x')\n",
    " elif x == y:\n",
    "     print('Both are equal')\n",
    "else:\n",
    "    print('x is greater than y ')"
   ]
  },
  {
   "cell_type": "code",
   "execution_count": 3,
   "id": "666271da-a127-49c2-ae98-caf8c2e53eeb",
   "metadata": {},
   "outputs": [
    {
     "name": "stdout",
     "output_type": "stream",
     "text": [
      "a is greater\n"
     ]
    }
   ],
   "source": [
    "a = 34\n",
    "b = 21\n",
    "c = 87\n",
    "\n",
    "if a > b:\n",
    "    if a > b:\n",
    "        print('a is greater')\n",
    "    else:\n",
    "        print('b is greater')\n",
    "\n",
    "elif b > c:\n",
    "    if b > a:\n",
    "        print('b is greater')\n",
    "    else:\n",
    "        print('c is greater')\n",
    "\n"
   ]
  },
  {
   "cell_type": "code",
   "execution_count": null,
   "id": "db930cb5-5a7b-409d-8d19-a8b514ed09af",
   "metadata": {},
   "outputs": [],
   "source": []
  },
  {
   "cell_type": "code",
   "execution_count": null,
   "id": "59e2fe2c-5485-427a-b538-53897b967e58",
   "metadata": {},
   "outputs": [],
   "source": []
  }
 ],
 "metadata": {
  "kernelspec": {
   "display_name": "Python [conda env:base] *",
   "language": "python",
   "name": "conda-base-py"
  },
  "language_info": {
   "codemirror_mode": {
    "name": "ipython",
    "version": 3
   },
   "file_extension": ".py",
   "mimetype": "text/x-python",
   "name": "python",
   "nbconvert_exporter": "python",
   "pygments_lexer": "ipython3",
   "version": "3.12.7"
  }
 },
 "nbformat": 4,
 "nbformat_minor": 5
}
