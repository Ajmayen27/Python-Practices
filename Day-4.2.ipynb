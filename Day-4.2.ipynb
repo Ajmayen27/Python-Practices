{
 "cells": [
  {
   "cell_type": "markdown",
   "id": "888bc252-ee26-47ea-aacb-c2546da3e20a",
   "metadata": {},
   "source": [
    "Sequence"
   ]
  },
  {
   "cell_type": "code",
   "execution_count": 4,
   "id": "ea8e5709-340d-41ec-9d7b-9825317ca138",
   "metadata": {},
   "outputs": [],
   "source": [
    "  l = [1,2,[5,6],'tree',(1,3,5,7)]"
   ]
  },
  {
   "cell_type": "code",
   "execution_count": 6,
   "id": "f4d704d7-c7bd-45a6-bff1-c88a7e67022d",
   "metadata": {},
   "outputs": [
    {
     "data": {
      "text/plain": [
       "[1, 2, [5, 6], 'tree', (1, 3, 5, 7)]"
      ]
     },
     "execution_count": 6,
     "metadata": {},
     "output_type": "execute_result"
    }
   ],
   "source": [
    "l"
   ]
  },
  {
   "cell_type": "code",
   "execution_count": 8,
   "id": "af46737f-8963-4a59-9022-5c97f42209a3",
   "metadata": {},
   "outputs": [
    {
     "data": {
      "text/plain": [
       "(1, 3, 5, 7)"
      ]
     },
     "execution_count": 8,
     "metadata": {},
     "output_type": "execute_result"
    }
   ],
   "source": [
    "l[-1]"
   ]
  },
  {
   "cell_type": "code",
   "execution_count": 10,
   "id": "aa0ccda8-f337-4618-8564-e75a4e860c9f",
   "metadata": {},
   "outputs": [
    {
     "data": {
      "text/plain": [
       "1"
      ]
     },
     "execution_count": 10,
     "metadata": {},
     "output_type": "execute_result"
    }
   ],
   "source": [
    "l[0]"
   ]
  },
  {
   "cell_type": "code",
   "execution_count": 12,
   "id": "e1f1dd13-bee3-4f37-84fa-ef62442f91fc",
   "metadata": {},
   "outputs": [
    {
     "data": {
      "text/plain": [
       "[5, 6]"
      ]
     },
     "execution_count": 12,
     "metadata": {},
     "output_type": "execute_result"
    }
   ],
   "source": [
    "l[2]"
   ]
  },
  {
   "cell_type": "code",
   "execution_count": 14,
   "id": "703945d4-1c82-49d5-ae9a-247272896e69",
   "metadata": {},
   "outputs": [
    {
     "data": {
      "text/plain": [
       "5"
      ]
     },
     "execution_count": 14,
     "metadata": {},
     "output_type": "execute_result"
    }
   ],
   "source": [
    "l[2][0]"
   ]
  },
  {
   "cell_type": "code",
   "execution_count": 16,
   "id": "2bb8e0e9-220e-4eda-a620-c2b904b0a616",
   "metadata": {},
   "outputs": [
    {
     "data": {
      "text/plain": [
       "6"
      ]
     },
     "execution_count": 16,
     "metadata": {},
     "output_type": "execute_result"
    }
   ],
   "source": [
    "l[2][1]"
   ]
  },
  {
   "cell_type": "code",
   "execution_count": 18,
   "id": "b12ee48e-98e9-4ece-944f-b4c34c03deb1",
   "metadata": {},
   "outputs": [
    {
     "data": {
      "text/plain": [
       "'tree'"
      ]
     },
     "execution_count": 18,
     "metadata": {},
     "output_type": "execute_result"
    }
   ],
   "source": [
    "l[3]"
   ]
  },
  {
   "cell_type": "code",
   "execution_count": 20,
   "id": "c4bbfd09-93ef-44eb-b7d8-144c3c15f89a",
   "metadata": {},
   "outputs": [
    {
     "data": {
      "text/plain": [
       "(1, 3, 5, 7)"
      ]
     },
     "execution_count": 20,
     "metadata": {},
     "output_type": "execute_result"
    }
   ],
   "source": [
    "l[4]"
   ]
  },
  {
   "cell_type": "code",
   "execution_count": 22,
   "id": "923407ae-270c-4371-9675-63cffccbf74a",
   "metadata": {},
   "outputs": [
    {
     "data": {
      "text/plain": [
       "1"
      ]
     },
     "execution_count": 22,
     "metadata": {},
     "output_type": "execute_result"
    }
   ],
   "source": [
    "l[4][0]"
   ]
  },
  {
   "cell_type": "code",
   "execution_count": 24,
   "id": "4477ef23-a4a0-465d-ad42-ef2fa18552cd",
   "metadata": {},
   "outputs": [
    {
     "data": {
      "text/plain": [
       "5"
      ]
     },
     "execution_count": 24,
     "metadata": {},
     "output_type": "execute_result"
    }
   ],
   "source": [
    "l[4][2]"
   ]
  },
  {
   "cell_type": "code",
   "execution_count": 26,
   "id": "8dcdd153-2fcc-4fb0-b3f1-d381f9dbc4a5",
   "metadata": {},
   "outputs": [
    {
     "data": {
      "text/plain": [
       "7"
      ]
     },
     "execution_count": 26,
     "metadata": {},
     "output_type": "execute_result"
    }
   ],
   "source": [
    "l[4][3]"
   ]
  },
  {
   "cell_type": "code",
   "execution_count": 28,
   "id": "ffcefbb0-8138-4907-ac94-a44ac38f7a44",
   "metadata": {},
   "outputs": [
    {
     "data": {
      "text/plain": [
       "list"
      ]
     },
     "execution_count": 28,
     "metadata": {},
     "output_type": "execute_result"
    }
   ],
   "source": [
    "type(l)"
   ]
  },
  {
   "cell_type": "code",
   "execution_count": 30,
   "id": "7f362ea4-6b3f-4965-8416-409f4c63f1e3",
   "metadata": {},
   "outputs": [
    {
     "data": {
      "text/plain": [
       "True"
      ]
     },
     "execution_count": 30,
     "metadata": {},
     "output_type": "execute_result"
    }
   ],
   "source": [
    "isinstance(l,list)"
   ]
  },
  {
   "cell_type": "markdown",
   "id": "b8e33ae5-0895-4366-a65a-c6f93f35f6c6",
   "metadata": {},
   "source": [
    "Tuple  "
   ]
  },
  {
   "cell_type": "code",
   "execution_count": 35,
   "id": "87cb7355-959e-4c99-a91e-4476d22076e5",
   "metadata": {},
   "outputs": [],
   "source": [
    "t = (1,5,7,9,23,'tuple ')"
   ]
  },
  {
   "cell_type": "code",
   "execution_count": 37,
   "id": "96b977c0-7f36-4470-8324-7ec94a310f6f",
   "metadata": {},
   "outputs": [
    {
     "data": {
      "text/plain": [
       "tuple"
      ]
     },
     "execution_count": 37,
     "metadata": {},
     "output_type": "execute_result"
    }
   ],
   "source": [
    "type(t)"
   ]
  },
  {
   "cell_type": "code",
   "execution_count": 39,
   "id": "385e44f2-5623-409f-aa78-2a9acbbe6af3",
   "metadata": {},
   "outputs": [
    {
     "data": {
      "text/plain": [
       "(1, 5, 7, 9, 23)"
      ]
     },
     "execution_count": 39,
     "metadata": {},
     "output_type": "execute_result"
    }
   ],
   "source": [
    "t[0:5]"
   ]
  },
  {
   "cell_type": "markdown",
   "id": "3e43337f-eeaf-43cb-be5f-376164249969",
   "metadata": {},
   "source": [
    "Range"
   ]
  },
  {
   "cell_type": "code",
   "execution_count": 42,
   "id": "7c69fb22-a71d-453c-9daa-4c07327e45e6",
   "metadata": {},
   "outputs": [],
   "source": [
    "x = range(15) #case 1"
   ]
  },
  {
   "cell_type": "code",
   "execution_count": 46,
   "id": "34f2d657-40b6-4617-9002-cc58b63b055b",
   "metadata": {},
   "outputs": [
    {
     "name": "stdout",
     "output_type": "stream",
     "text": [
      "0\n",
      "1\n",
      "2\n",
      "3\n",
      "4\n",
      "5\n",
      "6\n",
      "7\n",
      "8\n",
      "9\n",
      "10\n",
      "11\n",
      "12\n",
      "13\n",
      "14\n"
     ]
    }
   ],
   "source": [
    "for i in x:\n",
    "    print(i)"
   ]
  },
  {
   "cell_type": "code",
   "execution_count": 52,
   "id": "4f2c862b-11b3-41be-88a2-2c174e1b10c7",
   "metadata": {},
   "outputs": [],
   "source": [
    "y = range(5,16) #case 2"
   ]
  },
  {
   "cell_type": "code",
   "execution_count": 54,
   "id": "ff505bae-c80c-4a7b-8ae5-284e51450bfa",
   "metadata": {},
   "outputs": [
    {
     "name": "stdout",
     "output_type": "stream",
     "text": [
      "5\n",
      "6\n",
      "7\n",
      "8\n",
      "9\n",
      "10\n",
      "11\n",
      "12\n",
      "13\n",
      "14\n",
      "15\n"
     ]
    }
   ],
   "source": [
    "for i in y:\n",
    "    print(i)"
   ]
  },
  {
   "cell_type": "code",
   "execution_count": 82,
   "id": "7d5617cc-d36b-43f8-bb4b-550b34027fbb",
   "metadata": {},
   "outputs": [],
   "source": [
    "z = range(1,11,2) #case 3"
   ]
  },
  {
   "cell_type": "code",
   "execution_count": 84,
   "id": "f4fcbd3b-9818-4e56-b3b2-2e564aece807",
   "metadata": {},
   "outputs": [
    {
     "name": "stdout",
     "output_type": "stream",
     "text": [
      "1\n",
      "3\n",
      "5\n",
      "7\n",
      "9\n"
     ]
    }
   ],
   "source": [
    "for i in z:\n",
    "    print(i)"
   ]
  },
  {
   "cell_type": "code",
   "execution_count": 86,
   "id": "90a3ff4d-a809-4b92-a6f4-47797ace0dd6",
   "metadata": {},
   "outputs": [],
   "source": [
    "x = range(21,2,-2) #case 4"
   ]
  },
  {
   "cell_type": "code",
   "execution_count": 88,
   "id": "cc7b96ed-2dc2-4a38-9559-031b46f8c957",
   "metadata": {},
   "outputs": [
    {
     "name": "stdout",
     "output_type": "stream",
     "text": [
      "21\n",
      "19\n",
      "17\n",
      "15\n",
      "13\n",
      "11\n",
      "9\n",
      "7\n",
      "5\n",
      "3\n"
     ]
    }
   ],
   "source": [
    "for i in x:\n",
    "    print(i)"
   ]
  },
  {
   "cell_type": "markdown",
   "id": "44d20545-c569-42bd-8a6d-1fef48761261",
   "metadata": {},
   "source": [
    "Array"
   ]
  },
  {
   "cell_type": "code",
   "execution_count": 91,
   "id": "db57aa15-3d04-48e0-b43a-3272cba991b9",
   "metadata": {},
   "outputs": [],
   "source": [
    " import array as ar "
   ]
  },
  {
   "cell_type": "code",
   "execution_count": 93,
   "id": "57f1554c-9023-4a15-953f-b51900d05bf2",
   "metadata": {},
   "outputs": [],
   "source": [
    "a = ar.array('i',[1,2,3,4])"
   ]
  },
  {
   "cell_type": "code",
   "execution_count": 95,
   "id": "149072ab-5e98-47c0-a786-89553daf2ace",
   "metadata": {},
   "outputs": [
    {
     "data": {
      "text/plain": [
       "array('i', [1, 2, 3, 4])"
      ]
     },
     "execution_count": 95,
     "metadata": {},
     "output_type": "execute_result"
    }
   ],
   "source": [
    "a"
   ]
  },
  {
   "cell_type": "code",
   "execution_count": 97,
   "id": "84c18047-7073-41a6-ac34-81899dbb95e4",
   "metadata": {},
   "outputs": [
    {
     "data": {
      "text/plain": [
       "array.array"
      ]
     },
     "execution_count": 97,
     "metadata": {},
     "output_type": "execute_result"
    }
   ],
   "source": [
    "type(a)"
   ]
  },
  {
   "cell_type": "markdown",
   "id": "e4537469-4504-43e6-86db-568afbcab12d",
   "metadata": {},
   "source": [
    "String"
   ]
  },
  {
   "cell_type": "code",
   "execution_count": 100,
   "id": "223d3c95-f60b-412e-9678-4afc5927db0f",
   "metadata": {},
   "outputs": [],
   "source": [
    "data = 'love'"
   ]
  },
  {
   "cell_type": "code",
   "execution_count": 102,
   "id": "6bc4ec2a-7e8d-4036-a1b5-aaa5d111949e",
   "metadata": {},
   "outputs": [
    {
     "data": {
      "text/plain": [
       "'love'"
      ]
     },
     "execution_count": 102,
     "metadata": {},
     "output_type": "execute_result"
    }
   ],
   "source": [
    "data"
   ]
  },
  {
   "cell_type": "code",
   "execution_count": 104,
   "id": "d92f8c7f-54c9-449a-840a-488a809822d5",
   "metadata": {},
   "outputs": [],
   "source": [
    "data = \"love 2\""
   ]
  },
  {
   "cell_type": "code",
   "execution_count": 106,
   "id": "c30cbff8-8561-432e-bdd7-a0af2c3216e5",
   "metadata": {},
   "outputs": [
    {
     "data": {
      "text/plain": [
       "'love 2'"
      ]
     },
     "execution_count": 106,
     "metadata": {},
     "output_type": "execute_result"
    }
   ],
   "source": [
    "data"
   ]
  },
  {
   "cell_type": "code",
   "execution_count": 108,
   "id": "5165c39c-7756-4e9a-adae-d4f64380283a",
   "metadata": {},
   "outputs": [],
   "source": [
    "data = '''\n",
    "Hello there\n",
    "I love to play racket\n",
    "'''\n"
   ]
  },
  {
   "cell_type": "code",
   "execution_count": 110,
   "id": "0aee718b-6151-4872-a9e2-19f3bf921342",
   "metadata": {},
   "outputs": [
    {
     "data": {
      "text/plain": [
       "'\\nHello there\\nI love to play racket\\n'"
      ]
     },
     "execution_count": 110,
     "metadata": {},
     "output_type": "execute_result"
    }
   ],
   "source": [
    "data\n"
   ]
  },
  {
   "cell_type": "markdown",
   "id": "3c0aa51f-4734-46a2-9deb-b3e4dd502809",
   "metadata": {},
   "source": [
    "Set"
   ]
  },
  {
   "cell_type": "code",
   "execution_count": 113,
   "id": "51ddceb4-f372-4de3-b62b-ddf9de55ee9f",
   "metadata": {},
   "outputs": [],
   "source": [
    "s = {1,2,3,4,5}"
   ]
  },
  {
   "cell_type": "code",
   "execution_count": 115,
   "id": "dd6df74e-b93d-4586-b447-2d6f48e8e42c",
   "metadata": {},
   "outputs": [
    {
     "data": {
      "text/plain": [
       "set"
      ]
     },
     "execution_count": 115,
     "metadata": {},
     "output_type": "execute_result"
    }
   ],
   "source": [
    "type(s)"
   ]
  },
  {
   "cell_type": "markdown",
   "id": "b24c8f9d-5a0e-4ae8-8ef6-a062678d567b",
   "metadata": {},
   "source": [
    "Dictionary"
   ]
  },
  {
   "cell_type": "code",
   "execution_count": 119,
   "id": "4c6ff6dd-be29-4c7a-ba8c-71667101465b",
   "metadata": {},
   "outputs": [],
   "source": [
    "dic = {\n",
    "    'varsity':'DIU',\n",
    "    'dept':'swe'\n",
    "}"
   ]
  },
  {
   "cell_type": "code",
   "execution_count": 121,
   "id": "0792686b-5519-47cf-b58d-e8bcce76af3a",
   "metadata": {},
   "outputs": [
    {
     "data": {
      "text/plain": [
       "dict"
      ]
     },
     "execution_count": 121,
     "metadata": {},
     "output_type": "execute_result"
    }
   ],
   "source": [
    "type(dic)"
   ]
  },
  {
   "cell_type": "code",
   "execution_count": 123,
   "id": "7e761c3b-52f4-4507-bb84-346fadbf1161",
   "metadata": {},
   "outputs": [
    {
     "data": {
      "text/plain": [
       "{'varsity': 'DIU', 'dept': 'swe'}"
      ]
     },
     "execution_count": 123,
     "metadata": {},
     "output_type": "execute_result"
    }
   ],
   "source": [
    "dic"
   ]
  },
  {
   "cell_type": "code",
   "execution_count": 125,
   "id": "e3435321-77fe-4562-8842-cdc027dea78e",
   "metadata": {},
   "outputs": [
    {
     "data": {
      "text/plain": [
       "dict_keys(['varsity', 'dept'])"
      ]
     },
     "execution_count": 125,
     "metadata": {},
     "output_type": "execute_result"
    }
   ],
   "source": [
    "dic.keys()"
   ]
  },
  {
   "cell_type": "code",
   "execution_count": 127,
   "id": "9f4ee3f7-336a-487e-b9b4-900a3a49150d",
   "metadata": {},
   "outputs": [
    {
     "data": {
      "text/plain": [
       "dict_values(['DIU', 'swe'])"
      ]
     },
     "execution_count": 127,
     "metadata": {},
     "output_type": "execute_result"
    }
   ],
   "source": [
    "dic.values()"
   ]
  },
  {
   "cell_type": "code",
   "execution_count": null,
   "id": "a9ebb10e-da53-4387-b9d4-dd8099fbab51",
   "metadata": {},
   "outputs": [],
   "source": []
  }
 ],
 "metadata": {
  "kernelspec": {
   "display_name": "Python [conda env:base] *",
   "language": "python",
   "name": "conda-base-py"
  },
  "language_info": {
   "codemirror_mode": {
    "name": "ipython",
    "version": 3
   },
   "file_extension": ".py",
   "mimetype": "text/x-python",
   "name": "python",
   "nbconvert_exporter": "python",
   "pygments_lexer": "ipython3",
   "version": "3.12.7"
  }
 },
 "nbformat": 4,
 "nbformat_minor": 5
}
