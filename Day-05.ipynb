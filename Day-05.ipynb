{
 "cells": [
  {
   "cell_type": "markdown",
   "id": "4fd66136-0fd2-4442-a8f7-a67df7e608f8",
   "metadata": {},
   "source": [
    "Operators"
   ]
  },
  {
   "cell_type": "code",
   "execution_count": 2,
   "id": "910313d2-8976-4201-bd8f-9d36e20377fa",
   "metadata": {},
   "outputs": [],
   "source": [
    "num1 = 100101\n",
    "num2 = num1"
   ]
  },
  {
   "cell_type": "code",
   "execution_count": 10,
   "id": "3d42b1d3-d14f-479d-833f-0e3b0bd979e4",
   "metadata": {},
   "outputs": [
    {
     "data": {
      "text/plain": [
       "True"
      ]
     },
     "execution_count": 10,
     "metadata": {},
     "output_type": "execute_result"
    }
   ],
   "source": [
    "num2 == num1 "
   ]
  },
  {
   "cell_type": "code",
   "execution_count": 12,
   "id": "df4b99df-0ff5-4003-a572-80c45c727d8d",
   "metadata": {},
   "outputs": [],
   "source": [
    "num1 = 100101\n",
    "num2 = 100101"
   ]
  },
  {
   "cell_type": "code",
   "execution_count": 14,
   "id": "d0b41fac-7035-4143-a1f3-fee9af9ef196",
   "metadata": {},
   "outputs": [
    {
     "data": {
      "text/plain": [
       "False"
      ]
     },
     "execution_count": 14,
     "metadata": {},
     "output_type": "execute_result"
    }
   ],
   "source": [
    "num1 is num2"
   ]
  },
  {
   "cell_type": "code",
   "execution_count": 26,
   "id": "35a1d3c0-3b81-42eb-8910-d200db1d8add",
   "metadata": {},
   "outputs": [
    {
     "name": "stdout",
     "output_type": "stream",
     "text": [
      "5\n"
     ]
    },
    {
     "ename": "TypeError",
     "evalue": "unsupported operand type(s) for +=: 'range' and 'int'",
     "output_type": "error",
     "traceback": [
      "\u001b[1;31m---------------------------------------------------------------------------\u001b[0m",
      "\u001b[1;31mTypeError\u001b[0m                                 Traceback (most recent call last)",
      "Cell \u001b[1;32mIn[26], line 4\u001b[0m\n\u001b[0;32m      2\u001b[0m \u001b[38;5;28;01mfor\u001b[39;00m i \u001b[38;5;129;01min\u001b[39;00m x:\n\u001b[0;32m      3\u001b[0m     \u001b[38;5;28mprint\u001b[39m(i)\n\u001b[1;32m----> 4\u001b[0m     x\u001b[38;5;241m+\u001b[39m\u001b[38;5;241m=\u001b[39m\u001b[38;5;241m5\u001b[39m\n",
      "\u001b[1;31mTypeError\u001b[0m: unsupported operand type(s) for +=: 'range' and 'int'"
     ]
    }
   ],
   "source": [
    "x = range(5,20)\n",
    "for i in x:\n",
    "    print(i)\n",
    "\n",
    "    \n",
    "\n",
    "   "
   ]
  },
  {
   "cell_type": "code",
   "execution_count": null,
   "id": "3a98679c-a9f1-452b-914e-83a9eef69cc7",
   "metadata": {},
   "outputs": [],
   "source": []
  }
 ],
 "metadata": {
  "kernelspec": {
   "display_name": "Python [conda env:base] *",
   "language": "python",
   "name": "conda-base-py"
  },
  "language_info": {
   "codemirror_mode": {
    "name": "ipython",
    "version": 3
   },
   "file_extension": ".py",
   "mimetype": "text/x-python",
   "name": "python",
   "nbconvert_exporter": "python",
   "pygments_lexer": "ipython3",
   "version": "3.12.7"
  }
 },
 "nbformat": 4,
 "nbformat_minor": 5
}
