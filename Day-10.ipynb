{
 "cells": [
  {
   "cell_type": "code",
   "execution_count": 2,
   "id": "c16a1f02-264b-48a4-b4fb-4b52d60c2d2f",
   "metadata": {},
   "outputs": [
    {
     "name": "stdout",
     "output_type": "stream",
     "text": [
      "0\n",
      "1\n",
      "2\n",
      "3\n",
      "4\n",
      "5\n",
      "6\n",
      "7\n",
      "8\n",
      "9\n",
      "10\n"
     ]
    }
   ],
   "source": [
    "i = 0\n",
    "\n",
    "while(i <= 10):\n",
    "    print(i)\n",
    "    i += 1"
   ]
  },
  {
   "cell_type": "code",
   "execution_count": 8,
   "id": "081f77d7-96a5-4ef2-81ff-50fadbf1dc4b",
   "metadata": {},
   "outputs": [],
   "source": [
    "data = 'python'\n"
   ]
  },
  {
   "cell_type": "code",
   "execution_count": 40,
   "id": "decce5b0-8021-4999-8970-ca63c2b581c4",
   "metadata": {},
   "outputs": [
    {
     "name": "stdout",
     "output_type": "stream",
     "text": [
      "p\n",
      "y\n",
      "t\n",
      "h\n",
      "o\n",
      "n\n"
     ]
    }
   ],
   "source": [
    "i = 0\n",
    "while(i < len(data)):\n",
    "    print(data[i])\n",
    "    i += 1"
   ]
  },
  {
   "cell_type": "code",
   "execution_count": 14,
   "id": "7c8d0312-0b73-45db-bfd2-cd908c9dfd21",
   "metadata": {},
   "outputs": [
    {
     "name": "stdout",
     "output_type": "stream",
     "text": [
      "['I', 'love', 'data', 'science']\n"
     ]
    }
   ],
   "source": [
    "datasen = 'I love data science'\n",
    "datasen = datasen.split()\n"
   ]
  },
  {
   "cell_type": "code",
   "execution_count": 38,
   "id": "1e406182-d02e-4786-bc15-fffa0449afc0",
   "metadata": {},
   "outputs": [
    {
     "name": "stdout",
     "output_type": "stream",
     "text": [
      "I\n",
      "love\n",
      "data\n",
      "science\n"
     ]
    }
   ],
   "source": [
    "i = 0\n",
    "while(i < len(datasen)):\n",
    "    print(datasen[i])\n",
    "    i+=1"
   ]
  },
  {
   "cell_type": "code",
   "execution_count": 36,
   "id": "57aa0ff8-db33-46e4-b2ae-95f14c89be0c",
   "metadata": {},
   "outputs": [
    {
     "name": "stdout",
     "output_type": "stream",
     "text": [
      "150\n"
     ]
    }
   ],
   "source": [
    "n = [10,20,30,40,50]\n",
    "sum = 0\n",
    "i = 0\n",
    "while(i < len(n)):\n",
    "    sum = sum + n[i]\n",
    "    i+=1\n",
    "print(sum)\n",
    "\n",
    "  "
   ]
  },
  {
   "cell_type": "code",
   "execution_count": null,
   "id": "8df861f6-b977-4d5a-9d2f-72c59d280657",
   "metadata": {},
   "outputs": [],
   "source": []
  }
 ],
 "metadata": {
  "kernelspec": {
   "display_name": "Python [conda env:base] *",
   "language": "python",
   "name": "conda-base-py"
  },
  "language_info": {
   "codemirror_mode": {
    "name": "ipython",
    "version": 3
   },
   "file_extension": ".py",
   "mimetype": "text/x-python",
   "name": "python",
   "nbconvert_exporter": "python",
   "pygments_lexer": "ipython3",
   "version": "3.12.7"
  }
 },
 "nbformat": 4,
 "nbformat_minor": 5
}
