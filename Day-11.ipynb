{
 "cells": [
  {
   "cell_type": "markdown",
   "id": "38f62669-7e7a-43d0-bc51-2bf225bd7f7a",
   "metadata": {},
   "source": [
    "Nested Loops"
   ]
  },
  {
   "cell_type": "code",
   "execution_count": 13,
   "id": "d32fad5b-2a0c-47c2-ab8f-4a3801abf0f7",
   "metadata": {},
   "outputs": [
    {
     "name": "stdout",
     "output_type": "stream",
     "text": [
      "# \n",
      "## \n",
      "### \n",
      "#### \n",
      "##### \n"
     ]
    }
   ],
   "source": [
    "num = 5\n",
    "\n",
    "for x in range(1,num+1):\n",
    "    for y in range (1,x+1):\n",
    "        print('#',end='')\n",
    "    print(' ')"
   ]
  },
  {
   "cell_type": "code",
   "execution_count": 21,
   "id": "2d458048-6d4e-4dab-a9f9-36a0c1719e21",
   "metadata": {},
   "outputs": [],
   "source": [
    "nums = [1,2,3,4]"
   ]
  },
  {
   "cell_type": "code",
   "execution_count": 33,
   "id": "a674ce0d-2d05-4803-b048-a4d55d462926",
   "metadata": {},
   "outputs": [
    {
     "name": "stdout",
     "output_type": "stream",
     "text": [
      " \n",
      "1 \n",
      "12 \n",
      "123 \n",
      "1234 \n"
     ]
    }
   ],
   "source": [
    "for x in range(0,len(nums)+1):\n",
    "    for y in range(x):\n",
    "        print(nums[y],end='')\n",
    "    print(' ')"
   ]
  },
  {
   "cell_type": "code",
   "execution_count": 73,
   "id": "778c1fa4-37a6-4456-9097-b673e51680a7",
   "metadata": {},
   "outputs": [
    {
     "name": "stdout",
     "output_type": "stream",
     "text": [
      "0 1 2 3  \n",
      "0 1 2 3  \n",
      "0 1 2 3  \n",
      "0 1 2 3  \n"
     ]
    }
   ],
   "source": [
    "num = [1,2,3,4]\n",
    "\n",
    "for x in range(len(num)):\n",
    "    \n",
    "    for y in range(len(num)):\n",
    "        print(y,end=' ')\n",
    "    print(' ')\n",
    "        \n",
    "    \n"
   ]
  },
  {
   "cell_type": "code",
   "execution_count": null,
   "id": "8d1bc928-5618-4915-b3b2-7b9d62cce18e",
   "metadata": {},
   "outputs": [],
   "source": []
  },
  {
   "cell_type": "code",
   "execution_count": null,
   "id": "59d4081d-6392-44f7-9b85-1edbcf59e1ff",
   "metadata": {},
   "outputs": [],
   "source": []
  }
 ],
 "metadata": {
  "kernelspec": {
   "display_name": "Python [conda env:base] *",
   "language": "python",
   "name": "conda-base-py"
  },
  "language_info": {
   "codemirror_mode": {
    "name": "ipython",
    "version": 3
   },
   "file_extension": ".py",
   "mimetype": "text/x-python",
   "name": "python",
   "nbconvert_exporter": "python",
   "pygments_lexer": "ipython3",
   "version": "3.12.7"
  }
 },
 "nbformat": 4,
 "nbformat_minor": 5
}
