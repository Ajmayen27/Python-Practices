{
 "cells": [
  {
   "cell_type": "markdown",
   "id": "23bd2f0c-826d-4c3e-84ca-4552ab7d723d",
   "metadata": {},
   "source": [
    "All About Data Types"
   ]
  },
  {
   "cell_type": "code",
   "execution_count": 10,
   "id": "b4870aa1-c83f-4b0e-b761-baf10ed7820b",
   "metadata": {},
   "outputs": [],
   "source": [
    "a = 12 #int\n",
    "b = 20.12 #float\n",
    "c = 5 + 6j #complex"
   ]
  },
  {
   "cell_type": "code",
   "execution_count": 12,
   "id": "755c444e-3154-44a0-b758-ae3de4ef4a96",
   "metadata": {},
   "outputs": [
    {
     "data": {
      "text/plain": [
       "int"
      ]
     },
     "execution_count": 12,
     "metadata": {},
     "output_type": "execute_result"
    }
   ],
   "source": [
    "type(a)"
   ]
  },
  {
   "cell_type": "code",
   "execution_count": 14,
   "id": "73a1289c-b856-4cc2-bcc7-e31d06dd34d3",
   "metadata": {},
   "outputs": [
    {
     "data": {
      "text/plain": [
       "float"
      ]
     },
     "execution_count": 14,
     "metadata": {},
     "output_type": "execute_result"
    }
   ],
   "source": [
    "type(b)"
   ]
  },
  {
   "cell_type": "code",
   "execution_count": 16,
   "id": "d925024c-6d23-4da4-8763-8962cdc31788",
   "metadata": {},
   "outputs": [
    {
     "data": {
      "text/plain": [
       "complex"
      ]
     },
     "execution_count": 16,
     "metadata": {},
     "output_type": "execute_result"
    }
   ],
   "source": [
    "type(c)"
   ]
  },
  {
   "cell_type": "code",
   "execution_count": 18,
   "id": "d0e62675-ce51-4ede-8dea-db60d0265adc",
   "metadata": {},
   "outputs": [
    {
     "data": {
      "text/plain": [
       "False"
      ]
     },
     "execution_count": 18,
     "metadata": {},
     "output_type": "execute_result"
    }
   ],
   "source": [
    "isinstance(z,int)"
   ]
  },
  {
   "cell_type": "code",
   "execution_count": 20,
   "id": "f0af906f-fe26-4976-9ef8-e1050fa29ca9",
   "metadata": {},
   "outputs": [
    {
     "data": {
      "text/plain": [
       "True"
      ]
     },
     "execution_count": 20,
     "metadata": {},
     "output_type": "execute_result"
    }
   ],
   "source": [
    "isinstance(z,complex)"
   ]
  },
  {
   "cell_type": "code",
   "execution_count": 22,
   "id": "70b1d32c-528d-44af-a126-523adbfc8030",
   "metadata": {},
   "outputs": [],
   "source": [
    "n = float(a)"
   ]
  },
  {
   "cell_type": "code",
   "execution_count": 24,
   "id": "48d1fd17-67a8-40c1-a182-6a11e7b58dad",
   "metadata": {},
   "outputs": [
    {
     "name": "stdout",
     "output_type": "stream",
     "text": [
      "12.0\n"
     ]
    }
   ],
   "source": [
    "print(n)"
   ]
  },
  {
   "cell_type": "code",
   "execution_count": 26,
   "id": "bcc67358-b381-4135-9564-1f8162a27c02",
   "metadata": {},
   "outputs": [
    {
     "data": {
      "text/plain": [
       "float"
      ]
     },
     "execution_count": 26,
     "metadata": {},
     "output_type": "execute_result"
    }
   ],
   "source": [
    "type(n)"
   ]
  },
  {
   "cell_type": "code",
   "execution_count": 28,
   "id": "0c832f4e-3de7-4cf2-bae8-5b46d89c734e",
   "metadata": {},
   "outputs": [
    {
     "name": "stdout",
     "output_type": "stream",
     "text": [
      "12\n"
     ]
    }
   ],
   "source": [
    "n = int(n)\n",
    "print(n)"
   ]
  },
  {
   "cell_type": "code",
   "execution_count": 34,
   "id": "b4c274c2-d786-49a5-92d4-3574d2d06f93",
   "metadata": {},
   "outputs": [
    {
     "name": "stdout",
     "output_type": "stream",
     "text": [
      "(12+0j)\n"
     ]
    }
   ],
   "source": [
    "n = complex(n) #int,float to complex possible but complex to float, int not possible\n",
    "print(n)"
   ]
  },
  {
   "cell_type": "code",
   "execution_count": 32,
   "id": "14aee432-d057-47b2-9bf4-69f9cb907f76",
   "metadata": {},
   "outputs": [
    {
     "data": {
      "text/plain": [
       "complex"
      ]
     },
     "execution_count": 32,
     "metadata": {},
     "output_type": "execute_result"
    }
   ],
   "source": [
    "type(n)"
   ]
  },
  {
   "cell_type": "code",
   "execution_count": 36,
   "id": "34c3c756-98ca-44ee-af54-e2e918cbb928",
   "metadata": {},
   "outputs": [
    {
     "ename": "TypeError",
     "evalue": "float() argument must be a string or a real number, not 'complex'",
     "output_type": "error",
     "traceback": [
      "\u001b[1;31m---------------------------------------------------------------------------\u001b[0m",
      "\u001b[1;31mTypeError\u001b[0m                                 Traceback (most recent call last)",
      "Cell \u001b[1;32mIn[36], line 1\u001b[0m\n\u001b[1;32m----> 1\u001b[0m n \u001b[38;5;241m=\u001b[39m \u001b[38;5;28mfloat\u001b[39m(n)\n",
      "\u001b[1;31mTypeError\u001b[0m: float() argument must be a string or a real number, not 'complex'"
     ]
    }
   ],
   "source": [
    "n = float(n)"
   ]
  },
  {
   "cell_type": "code",
   "execution_count": 38,
   "id": "b009b785-5e51-436d-b78b-2d73ec6d57ec",
   "metadata": {},
   "outputs": [],
   "source": [
    "x = 12.5"
   ]
  },
  {
   "cell_type": "code",
   "execution_count": 40,
   "id": "223b1ee0-7e7f-46e5-9036-f88bb5a4645a",
   "metadata": {},
   "outputs": [],
   "source": [
    "x = complex(x)"
   ]
  },
  {
   "cell_type": "code",
   "execution_count": 42,
   "id": "a155e7a2-bdc7-4052-a983-b4b4e3b73f2f",
   "metadata": {},
   "outputs": [
    {
     "name": "stdout",
     "output_type": "stream",
     "text": [
      "(12.5+0j)\n"
     ]
    }
   ],
   "source": [
    "print(x)"
   ]
  },
  {
   "cell_type": "code",
   "execution_count": 44,
   "id": "73e57379-3f4e-4360-bc29-39ec191e50fc",
   "metadata": {},
   "outputs": [
    {
     "name": "stdin",
     "output_type": "stream",
     "text": [
      "Enter a complex number 2\n"
     ]
    }
   ],
   "source": [
    "com = complex(input('Enter a complex number'))"
   ]
  },
  {
   "cell_type": "code",
   "execution_count": 46,
   "id": "e7b85028-f190-4612-af3f-673f7e2c5675",
   "metadata": {},
   "outputs": [
    {
     "data": {
      "text/plain": [
       "(2+0j)"
      ]
     },
     "execution_count": 46,
     "metadata": {},
     "output_type": "execute_result"
    }
   ],
   "source": [
    "com"
   ]
  },
  {
   "cell_type": "code",
   "execution_count": 48,
   "id": "a90e7e15-9fda-4ca3-9af9-b5bd4425fd28",
   "metadata": {},
   "outputs": [
    {
     "data": {
      "text/plain": [
       "complex"
      ]
     },
     "execution_count": 48,
     "metadata": {},
     "output_type": "execute_result"
    }
   ],
   "source": [
    "type(com)"
   ]
  },
  {
   "cell_type": "markdown",
   "id": "1d20e6ee-841c-40d7-98f4-eaa8a7a7dbd2",
   "metadata": {},
   "source": [
    "Boolean"
   ]
  },
  {
   "cell_type": "code",
   "execution_count": 51,
   "id": "9dfe7ed8-23ee-4260-97f9-4b85aa202ebd",
   "metadata": {},
   "outputs": [],
   "source": [
    "x = True\n",
    "y = False"
   ]
  },
  {
   "cell_type": "code",
   "execution_count": 53,
   "id": "735b1505-be31-4889-9137-c09a596de0cb",
   "metadata": {},
   "outputs": [
    {
     "data": {
      "text/plain": [
       "True"
      ]
     },
     "execution_count": 53,
     "metadata": {},
     "output_type": "execute_result"
    }
   ],
   "source": [
    "x"
   ]
  },
  {
   "cell_type": "code",
   "execution_count": 55,
   "id": "2420748f-f14f-4581-9f3b-a0f309530a29",
   "metadata": {},
   "outputs": [
    {
     "data": {
      "text/plain": [
       "False"
      ]
     },
     "execution_count": 55,
     "metadata": {},
     "output_type": "execute_result"
    }
   ],
   "source": [
    "y"
   ]
  },
  {
   "cell_type": "code",
   "execution_count": null,
   "id": "62b02146-751c-49c5-8ae0-271ca3ec08fe",
   "metadata": {},
   "outputs": [],
   "source": []
  }
 ],
 "metadata": {
  "kernelspec": {
   "display_name": "Python [conda env:base] *",
   "language": "python",
   "name": "conda-base-py"
  },
  "language_info": {
   "codemirror_mode": {
    "name": "ipython",
    "version": 3
   },
   "file_extension": ".py",
   "mimetype": "text/x-python",
   "name": "python",
   "nbconvert_exporter": "python",
   "pygments_lexer": "ipython3",
   "version": "3.12.7"
  }
 },
 "nbformat": 4,
 "nbformat_minor": 5
}
