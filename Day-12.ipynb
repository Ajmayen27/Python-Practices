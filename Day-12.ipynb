{
 "cells": [
  {
   "cell_type": "markdown",
   "id": "8c7e5327-a303-4758-a85b-d37027dec950",
   "metadata": {},
   "source": [
    "List"
   ]
  },
  {
   "cell_type": "code",
   "execution_count": 42,
   "id": "8b378af4-0bd2-48b0-92da-a3c7db179bb9",
   "metadata": {},
   "outputs": [],
   "source": [
    "l1 = [1,4,67,3,4,6]"
   ]
  },
  {
   "cell_type": "code",
   "execution_count": 4,
   "id": "df52aba5-f09e-4e7f-8510-d1ad3a4f1fcf",
   "metadata": {},
   "outputs": [
    {
     "data": {
      "text/plain": [
       "[1, 4, 67, 3, 4, 6]"
      ]
     },
     "execution_count": 4,
     "metadata": {},
     "output_type": "execute_result"
    }
   ],
   "source": [
    "l1"
   ]
  },
  {
   "cell_type": "code",
   "execution_count": 6,
   "id": "024e1495-a55b-4468-8cd0-e161b53a8df1",
   "metadata": {},
   "outputs": [
    {
     "data": {
      "text/plain": [
       "1"
      ]
     },
     "execution_count": 6,
     "metadata": {},
     "output_type": "execute_result"
    }
   ],
   "source": [
    "l1[0]"
   ]
  },
  {
   "cell_type": "code",
   "execution_count": 8,
   "id": "09e8303b-d0ec-4f4e-9dca-f57b143f5d5c",
   "metadata": {},
   "outputs": [
    {
     "data": {
      "text/plain": [
       "[1, 4]"
      ]
     },
     "execution_count": 8,
     "metadata": {},
     "output_type": "execute_result"
    }
   ],
   "source": [
    "l1[0:2]"
   ]
  },
  {
   "cell_type": "code",
   "execution_count": 10,
   "id": "8834122e-8878-49f6-8993-47cd960ddcd5",
   "metadata": {},
   "outputs": [
    {
     "data": {
      "text/plain": [
       "[1, 4, 67, 3]"
      ]
     },
     "execution_count": 10,
     "metadata": {},
     "output_type": "execute_result"
    }
   ],
   "source": [
    "l1[0:4]"
   ]
  },
  {
   "cell_type": "code",
   "execution_count": 12,
   "id": "88b4325e-9da2-4d5b-9e79-32a83c3b626d",
   "metadata": {},
   "outputs": [],
   "source": [
    "l1[1] = 9"
   ]
  },
  {
   "cell_type": "code",
   "execution_count": 16,
   "id": "21ebbe6f-b2ed-4f8d-bae4-389987d9db23",
   "metadata": {},
   "outputs": [
    {
     "data": {
      "text/plain": [
       "[1, 9, 67, 3, 4, 6]"
      ]
     },
     "execution_count": 16,
     "metadata": {},
     "output_type": "execute_result"
    }
   ],
   "source": [
    "l1"
   ]
  },
  {
   "cell_type": "code",
   "execution_count": 18,
   "id": "c771e90b-0369-4d7a-88ef-dd8da0887bf8",
   "metadata": {},
   "outputs": [],
   "source": [
    "l1[-1] = 'Ajmayen Fayel'"
   ]
  },
  {
   "cell_type": "code",
   "execution_count": 20,
   "id": "b2da7165-f282-4688-b2d6-1251be9a5fdd",
   "metadata": {},
   "outputs": [
    {
     "data": {
      "text/plain": [
       "[1, 9, 67, 3, 4, 'Ajmayen Fayel']"
      ]
     },
     "execution_count": 20,
     "metadata": {},
     "output_type": "execute_result"
    }
   ],
   "source": [
    "l1"
   ]
  },
  {
   "cell_type": "code",
   "execution_count": 22,
   "id": "86a97895-9788-4e49-90f1-b846f72cfb13",
   "metadata": {},
   "outputs": [],
   "source": [
    "l1.append('Hello')"
   ]
  },
  {
   "cell_type": "code",
   "execution_count": 24,
   "id": "1b0f2a6e-4ae8-4e79-b3b7-ef3d04449454",
   "metadata": {},
   "outputs": [
    {
     "data": {
      "text/plain": [
       "[1, 9, 67, 3, 4, 'Ajmayen Fayel', 'Hello']"
      ]
     },
     "execution_count": 24,
     "metadata": {},
     "output_type": "execute_result"
    }
   ],
   "source": [
    "l1"
   ]
  },
  {
   "cell_type": "code",
   "execution_count": 26,
   "id": "d5155825-e885-4656-ac65-a2f6d5ac067d",
   "metadata": {},
   "outputs": [],
   "source": [
    "l1.append(9)"
   ]
  },
  {
   "cell_type": "code",
   "execution_count": 28,
   "id": "be215c7a-54fb-4e97-b475-c74d060fcd6b",
   "metadata": {},
   "outputs": [
    {
     "data": {
      "text/plain": [
       "[1, 9, 67, 3, 4, 'Ajmayen Fayel', 'Hello', 9]"
      ]
     },
     "execution_count": 28,
     "metadata": {},
     "output_type": "execute_result"
    }
   ],
   "source": [
    "l1"
   ]
  },
  {
   "cell_type": "code",
   "execution_count": 30,
   "id": "5e389681-18c9-4828-b36d-caa46a1c39e3",
   "metadata": {},
   "outputs": [
    {
     "data": {
      "text/plain": [
       "152"
      ]
     },
     "execution_count": 30,
     "metadata": {},
     "output_type": "execute_result"
    }
   ],
   "source": [
    "import sys\n",
    "sys.getsizeof(l1)"
   ]
  },
  {
   "cell_type": "code",
   "execution_count": 32,
   "id": "ac595a8f-735c-4c81-b7f5-44cbc6aaf5b3",
   "metadata": {},
   "outputs": [
    {
     "data": {
      "text/plain": [
       "9"
      ]
     },
     "execution_count": 32,
     "metadata": {},
     "output_type": "execute_result"
    }
   ],
   "source": [
    "l1.pop()"
   ]
  },
  {
   "cell_type": "code",
   "execution_count": 34,
   "id": "05506375-a585-46e8-939c-74437882f58d",
   "metadata": {},
   "outputs": [
    {
     "data": {
      "text/plain": [
       "[1, 9, 67, 3, 4, 'Ajmayen Fayel', 'Hello']"
      ]
     },
     "execution_count": 34,
     "metadata": {},
     "output_type": "execute_result"
    }
   ],
   "source": [
    "l1"
   ]
  },
  {
   "cell_type": "code",
   "execution_count": 38,
   "id": "d21e67d3-0059-4487-9f51-69ebc3755045",
   "metadata": {},
   "outputs": [
    {
     "data": {
      "text/plain": [
       "9"
      ]
     },
     "execution_count": 38,
     "metadata": {},
     "output_type": "execute_result"
    }
   ],
   "source": [
    "l1.pop(1)"
   ]
  },
  {
   "cell_type": "code",
   "execution_count": 40,
   "id": "a0cddee3-373e-4b04-b89f-d1aed3a1784f",
   "metadata": {},
   "outputs": [
    {
     "data": {
      "text/plain": [
       "[1, 67, 3, 4, 'Ajmayen Fayel', 'Hello']"
      ]
     },
     "execution_count": 40,
     "metadata": {},
     "output_type": "execute_result"
    }
   ],
   "source": [
    "l1"
   ]
  },
  {
   "cell_type": "markdown",
   "id": "eb23c672-336b-4a6b-ba0c-df1dd9fdaaa5",
   "metadata": {},
   "source": [
    "Creating List using List Constructor:"
   ]
  },
  {
   "cell_type": "code",
   "execution_count": 46,
   "id": "f18b6c94-177c-4650-8044-5b12f796a077",
   "metadata": {},
   "outputs": [],
   "source": [
    "l2 = list(('ml',3,4,5,(1,2,3,4)))"
   ]
  },
  {
   "cell_type": "code",
   "execution_count": 48,
   "id": "6b556ab6-dbb9-49bd-90ec-6aaeaeb2b71d",
   "metadata": {},
   "outputs": [
    {
     "data": {
      "text/plain": [
       "2"
      ]
     },
     "execution_count": 48,
     "metadata": {},
     "output_type": "execute_result"
    }
   ],
   "source": [
    "l2[4][1]"
   ]
  },
  {
   "cell_type": "markdown",
   "id": "87c45ac9-b40e-43d4-870d-a86d1550cf69",
   "metadata": {},
   "source": [
    "Input List from User "
   ]
  },
  {
   "cell_type": "code",
   "execution_count": 77,
   "id": "11e4820e-fa8d-4c31-b7a0-309aaf8c44fc",
   "metadata": {},
   "outputs": [
    {
     "name": "stdin",
     "output_type": "stream",
     "text": [
      "Inter the Index number:  3\n",
      " 2\n"
     ]
    },
    {
     "name": "stdout",
     "output_type": "stream",
     "text": [
      "['2']\n"
     ]
    },
    {
     "name": "stdin",
     "output_type": "stream",
     "text": [
      " 3\n"
     ]
    },
    {
     "name": "stdout",
     "output_type": "stream",
     "text": [
      "['2', '3']\n"
     ]
    },
    {
     "name": "stdin",
     "output_type": "stream",
     "text": [
      " 4\n"
     ]
    },
    {
     "name": "stdout",
     "output_type": "stream",
     "text": [
      "['2', '3', '4']\n"
     ]
    }
   ],
   "source": [
    "li = []\n",
    "n = int(input('Inter the Index number: '))\n",
    "\n",
    "for x in range(n):\n",
    "    new = input()\n",
    "    li.append(new)\n",
    "    print(li)\n",
    "    \n",
    "    "
   ]
  },
  {
   "cell_type": "code",
   "execution_count": null,
   "id": "08b5f315-f3ae-478e-ad9a-b6e7b8767a2c",
   "metadata": {},
   "outputs": [],
   "source": []
  }
 ],
 "metadata": {
  "kernelspec": {
   "display_name": "Python [conda env:base] *",
   "language": "python",
   "name": "conda-base-py"
  },
  "language_info": {
   "codemirror_mode": {
    "name": "ipython",
    "version": 3
   },
   "file_extension": ".py",
   "mimetype": "text/x-python",
   "name": "python",
   "nbconvert_exporter": "python",
   "pygments_lexer": "ipython3",
   "version": "3.12.7"
  }
 },
 "nbformat": 4,
 "nbformat_minor": 5
}
