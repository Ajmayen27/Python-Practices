{
 "cells": [
  {
   "cell_type": "markdown",
   "id": "d2b5ab6f-70d1-469b-b6d8-acf8d0983e4e",
   "metadata": {},
   "source": [
    "input function"
   ]
  },
  {
   "cell_type": "code",
   "execution_count": null,
   "id": "90e7ada1-c0be-4c92-a254-093878a230fc",
   "metadata": {},
   "outputs": [],
   "source": [
    "data = input()\n",
    "print(data)"
   ]
  },
  {
   "cell_type": "code",
   "execution_count": null,
   "id": "3dc30b1d-9acf-435e-9c4f-edd925e232c8",
   "metadata": {},
   "outputs": [],
   "source": [
    "print(data)"
   ]
  },
  {
   "cell_type": "code",
   "execution_count": 3,
   "id": "265e6263-b29d-4bdc-8fe2-9543288dcd9f",
   "metadata": {},
   "outputs": [
    {
     "name": "stdin",
     "output_type": "stream",
     "text": [
      " 1\n",
      " 2\n"
     ]
    }
   ],
   "source": [
    "x = input()\n",
    "y = input()"
   ]
  },
  {
   "cell_type": "code",
   "execution_count": null,
   "id": "9c154342-9d0a-47bf-8f8f-a95b1d60bc46",
   "metadata": {},
   "outputs": [],
   "source": [
    "x+y"
   ]
  },
  {
   "cell_type": "code",
   "execution_count": 7,
   "id": "53aa04da-d3df-48d1-94b9-4d5f90d1fa40",
   "metadata": {},
   "outputs": [],
   "source": [
    "x = int(x)\n",
    "y = int(y)"
   ]
  },
  {
   "cell_type": "code",
   "execution_count": null,
   "id": "eae85fd5-3750-4baf-bc5f-5bdbc40440d8",
   "metadata": {},
   "outputs": [],
   "source": [
    "x+y"
   ]
  },
  {
   "cell_type": "code",
   "execution_count": 9,
   "id": "7bd52148-b8f4-49e1-a505-64d73eac024b",
   "metadata": {},
   "outputs": [
    {
     "name": "stdin",
     "output_type": "stream",
     "text": [
      "Enter the 1st number 12\n",
      "Enter the 2nd number 12\n"
     ]
    }
   ],
   "source": [
    "x = int(input('Enter the 1st number'))\n",
    "y = int(input('Enter the 2nd number'))"
   ]
  },
  {
   "cell_type": "code",
   "execution_count": 11,
   "id": "58154096-1980-4d72-8cb8-230abaf8c12c",
   "metadata": {},
   "outputs": [
    {
     "data": {
      "text/plain": [
       "24"
      ]
     },
     "execution_count": 11,
     "metadata": {},
     "output_type": "execute_result"
    }
   ],
   "source": [
    "x + y"
   ]
  },
  {
   "cell_type": "code",
   "execution_count": 13,
   "id": "bbeba081-d069-46cc-9da2-e2594947d817",
   "metadata": {},
   "outputs": [
    {
     "name": "stdin",
     "output_type": "stream",
     "text": [
      " 12.12\n",
      " 12.12\n"
     ]
    }
   ],
   "source": [
    "x = float(input())\n",
    "y = float(input())"
   ]
  },
  {
   "cell_type": "code",
   "execution_count": 15,
   "id": "b0f3b924-a971-42b1-aefd-e464131b02c7",
   "metadata": {},
   "outputs": [
    {
     "data": {
      "text/plain": [
       "24.24"
      ]
     },
     "execution_count": 15,
     "metadata": {},
     "output_type": "execute_result"
    }
   ],
   "source": [
    "x + y"
   ]
  },
  {
   "cell_type": "code",
   "execution_count": 29,
   "id": "2f8256a8-d048-43ca-96cc-2b6ad29fbaff",
   "metadata": {},
   "outputs": [],
   "source": [
    "sentance = 'This is a big boy toy toy toy'"
   ]
  },
  {
   "cell_type": "code",
   "execution_count": 31,
   "id": "735d20d8-abec-49b5-8599-4cb816e1fd1e",
   "metadata": {},
   "outputs": [
    {
     "data": {
      "text/plain": [
       "str"
      ]
     },
     "execution_count": 31,
     "metadata": {},
     "output_type": "execute_result"
    }
   ],
   "source": [
    "type(sentance)"
   ]
  },
  {
   "cell_type": "code",
   "execution_count": 33,
   "id": "db55855a-50ca-44fc-b6f1-50402ba833b7",
   "metadata": {},
   "outputs": [
    {
     "data": {
      "text/plain": [
       "29"
      ]
     },
     "execution_count": 33,
     "metadata": {},
     "output_type": "execute_result"
    }
   ],
   "source": [
    "len(sentance)"
   ]
  },
  {
   "cell_type": "code",
   "execution_count": 35,
   "id": "77b21f3d-1dbf-457f-b8b0-26253a2474a5",
   "metadata": {},
   "outputs": [
    {
     "data": {
      "text/plain": [
       "70"
      ]
     },
     "execution_count": 35,
     "metadata": {},
     "output_type": "execute_result"
    }
   ],
   "source": [
    "import sys\n",
    "sys.getsizeof(sentance)"
   ]
  },
  {
   "cell_type": "code",
   "execution_count": 37,
   "id": "d7cc5d22-e945-479f-947c-bf2c246c2fca",
   "metadata": {},
   "outputs": [
    {
     "data": {
      "text/plain": [
       "3"
      ]
     },
     "execution_count": 37,
     "metadata": {},
     "output_type": "execute_result"
    }
   ],
   "source": [
    "sentance.count('toy')"
   ]
  },
  {
   "cell_type": "code",
   "execution_count": 41,
   "id": "78b1457f-22d3-486b-a0ce-78df2959baf7",
   "metadata": {},
   "outputs": [],
   "source": [
    "sub = 'big boy'"
   ]
  },
  {
   "cell_type": "code",
   "execution_count": 45,
   "id": "80466a38-8314-4715-b4b9-9e524f8a4353",
   "metadata": {},
   "outputs": [
    {
     "data": {
      "text/plain": [
       "1"
      ]
     },
     "execution_count": 45,
     "metadata": {},
     "output_type": "execute_result"
    }
   ],
   "source": [
    "sentance.count(sub)"
   ]
  },
  {
   "cell_type": "code",
   "execution_count": null,
   "id": "ab410a54-241c-4bea-92e7-a4c0283c3705",
   "metadata": {},
   "outputs": [],
   "source": []
  }
 ],
 "metadata": {
  "kernelspec": {
   "display_name": "Python [conda env:base] *",
   "language": "python",
   "name": "conda-base-py"
  },
  "language_info": {
   "codemirror_mode": {
    "name": "ipython",
    "version": 3
   },
   "file_extension": ".py",
   "mimetype": "text/x-python",
   "name": "python",
   "nbconvert_exporter": "python",
   "pygments_lexer": "ipython3",
   "version": "3.12.7"
  }
 },
 "nbformat": 4,
 "nbformat_minor": 5
}
