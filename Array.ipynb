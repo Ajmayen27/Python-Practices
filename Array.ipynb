{
 "cells": [
  {
   "cell_type": "code",
   "execution_count": 2,
   "id": "a9a913e3-6c1a-4f26-ac4f-543e35d15f97",
   "metadata": {},
   "outputs": [],
   "source": [
    "import array as arr"
   ]
  },
  {
   "cell_type": "code",
   "execution_count": 4,
   "id": "4c2f8a56-bb19-4f75-a010-90e9edc33664",
   "metadata": {},
   "outputs": [],
   "source": [
    "array1 = arr.array('i',[1,2,3,4,5])"
   ]
  },
  {
   "cell_type": "code",
   "execution_count": 6,
   "id": "d147ac34-1e39-4107-9695-a8b05b3e2983",
   "metadata": {},
   "outputs": [
    {
     "data": {
      "text/plain": [
       "array('i', [1, 2, 3, 4, 5])"
      ]
     },
     "execution_count": 6,
     "metadata": {},
     "output_type": "execute_result"
    }
   ],
   "source": [
    "array1"
   ]
  },
  {
   "cell_type": "code",
   "execution_count": 8,
   "id": "452b0a45-f005-4d53-a3d4-898f998c165a",
   "metadata": {},
   "outputs": [
    {
     "data": {
      "text/plain": [
       "array.array"
      ]
     },
     "execution_count": 8,
     "metadata": {},
     "output_type": "execute_result"
    }
   ],
   "source": [
    "type(array1)"
   ]
  },
  {
   "cell_type": "code",
   "execution_count": 10,
   "id": "ace92d92-83d4-4281-a817-8d111152d2dc",
   "metadata": {},
   "outputs": [],
   "source": [
    "array2 = arr.array('f',[1.00,5.34,6.77,2.44])"
   ]
  },
  {
   "cell_type": "code",
   "execution_count": 12,
   "id": "5d861989-2598-44e4-9326-1fae0d81dc77",
   "metadata": {},
   "outputs": [
    {
     "data": {
      "text/plain": [
       "array('f', [1.0, 5.340000152587891, 6.769999980926514, 2.440000057220459])"
      ]
     },
     "execution_count": 12,
     "metadata": {},
     "output_type": "execute_result"
    }
   ],
   "source": [
    "array2"
   ]
  },
  {
   "cell_type": "code",
   "execution_count": 16,
   "id": "49e60c6b-72ad-4627-9615-e17f950bf6c5",
   "metadata": {},
   "outputs": [],
   "source": [
    "array2[0] = 5"
   ]
  },
  {
   "cell_type": "code",
   "execution_count": 18,
   "id": "a4d0f79b-5bce-49e4-bb34-5f8ad9b2f413",
   "metadata": {},
   "outputs": [
    {
     "data": {
      "text/plain": [
       "array('f', [5.0, 5.340000152587891, 6.769999980926514, 2.440000057220459])"
      ]
     },
     "execution_count": 18,
     "metadata": {},
     "output_type": "execute_result"
    }
   ],
   "source": [
    "array2"
   ]
  },
  {
   "cell_type": "code",
   "execution_count": 20,
   "id": "523db4f6-02b0-478e-bc22-16fab5aeaaab",
   "metadata": {},
   "outputs": [],
   "source": [
    "array1.append(9)"
   ]
  },
  {
   "cell_type": "code",
   "execution_count": 22,
   "id": "27d68978-8f00-48c7-bb6f-bfb8be3df948",
   "metadata": {},
   "outputs": [
    {
     "data": {
      "text/plain": [
       "array('i', [1, 2, 3, 4, 5, 9])"
      ]
     },
     "execution_count": 22,
     "metadata": {},
     "output_type": "execute_result"
    }
   ],
   "source": [
    "array1"
   ]
  },
  {
   "cell_type": "code",
   "execution_count": 24,
   "id": "600c2b78-e517-40e3-9b4d-8663a751e9e5",
   "metadata": {},
   "outputs": [],
   "source": [
    "del array1[-1]"
   ]
  },
  {
   "cell_type": "code",
   "execution_count": 26,
   "id": "48895960-0aae-4c1f-baa0-6624a2ccec22",
   "metadata": {},
   "outputs": [
    {
     "data": {
      "text/plain": [
       "array('i', [1, 2, 3, 4, 5])"
      ]
     },
     "execution_count": 26,
     "metadata": {},
     "output_type": "execute_result"
    }
   ],
   "source": [
    "array1"
   ]
  },
  {
   "cell_type": "code",
   "execution_count": 32,
   "id": "01f96782-940d-4e5b-aa9e-226360e0c0b8",
   "metadata": {},
   "outputs": [
    {
     "data": {
      "text/plain": [
       "5"
      ]
     },
     "execution_count": 32,
     "metadata": {},
     "output_type": "execute_result"
    }
   ],
   "source": [
    "len(array1)"
   ]
  },
  {
   "cell_type": "code",
   "execution_count": 34,
   "id": "d391c4e2-8178-4cd0-9dbd-f7a97941d4cd",
   "metadata": {},
   "outputs": [],
   "source": [
    "array1.reverse()"
   ]
  },
  {
   "cell_type": "code",
   "execution_count": 36,
   "id": "3def886f-9f97-40d7-8011-f01462722af3",
   "metadata": {},
   "outputs": [
    {
     "data": {
      "text/plain": [
       "array('i', [5, 4, 3, 2, 1])"
      ]
     },
     "execution_count": 36,
     "metadata": {},
     "output_type": "execute_result"
    }
   ],
   "source": [
    "array1"
   ]
  },
  {
   "cell_type": "code",
   "execution_count": 38,
   "id": "049cd2e3-95fc-47d6-a9fd-f8627ff3e927",
   "metadata": {},
   "outputs": [],
   "source": [
    "array1.append(5)"
   ]
  },
  {
   "cell_type": "code",
   "execution_count": 40,
   "id": "eb2fe60a-7e34-4031-a089-451ea83812d9",
   "metadata": {},
   "outputs": [
    {
     "data": {
      "text/plain": [
       "2"
      ]
     },
     "execution_count": 40,
     "metadata": {},
     "output_type": "execute_result"
    }
   ],
   "source": [
    "array1.count(5)"
   ]
  },
  {
   "cell_type": "code",
   "execution_count": 42,
   "id": "44c64498-923f-4a8b-896a-f3e4119a0a27",
   "metadata": {},
   "outputs": [
    {
     "data": {
      "text/plain": [
       "1"
      ]
     },
     "execution_count": 42,
     "metadata": {},
     "output_type": "execute_result"
    }
   ],
   "source": [
    "array1.index(4)"
   ]
  },
  {
   "cell_type": "code",
   "execution_count": 44,
   "id": "a09ca796-4cb2-4576-b749-e05bcee8a060",
   "metadata": {},
   "outputs": [
    {
     "data": {
      "text/plain": [
       "3"
      ]
     },
     "execution_count": 44,
     "metadata": {},
     "output_type": "execute_result"
    }
   ],
   "source": [
    "array1.pop(2)"
   ]
  },
  {
   "cell_type": "code",
   "execution_count": 5,
   "id": "98a397e0-4134-4dd6-83ac-7cee33422299",
   "metadata": {},
   "outputs": [],
   "source": [
    "import array as arr"
   ]
  },
  {
   "cell_type": "code",
   "execution_count": 13,
   "id": "7c691e84-88f9-4b09-af10-9bf8f3da3c78",
   "metadata": {},
   "outputs": [
    {
     "name": "stdin",
     "output_type": "stream",
     "text": [
      " 4\n",
      " 1\n",
      " 2\n",
      " 3\n",
      " 4\n"
     ]
    },
    {
     "name": "stdout",
     "output_type": "stream",
     "text": [
      "array('i', [1, 2, 3, 4])\n"
     ]
    }
   ],
   "source": [
    "r = arr.array('i',[])\n",
    "\n",
    "items = int(input())\n",
    "for i in range(items):\n",
    "    val = int(input())\n",
    "    r.append(val)\n",
    "    \n",
    "print(r)\n",
    "    \n",
    "    "
   ]
  },
  {
   "cell_type": "code",
   "execution_count": null,
   "id": "c5a0bd6b-5d8a-49b1-b548-a8a834569454",
   "metadata": {},
   "outputs": [],
   "source": []
  }
 ],
 "metadata": {
  "kernelspec": {
   "display_name": "Python [conda env:base] *",
   "language": "python",
   "name": "conda-base-py"
  },
  "language_info": {
   "codemirror_mode": {
    "name": "ipython",
    "version": 3
   },
   "file_extension": ".py",
   "mimetype": "text/x-python",
   "name": "python",
   "nbconvert_exporter": "python",
   "pygments_lexer": "ipython3",
   "version": "3.12.7"
  }
 },
 "nbformat": 4,
 "nbformat_minor": 5
}
