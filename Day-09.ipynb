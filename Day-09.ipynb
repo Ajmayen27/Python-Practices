{
 "cells": [
  {
   "cell_type": "code",
   "execution_count": 2,
   "id": "aaab0b9d-8ff3-4723-bb43-7ccaba96af7f",
   "metadata": {},
   "outputs": [
    {
     "name": "stdout",
     "output_type": "stream",
     "text": [
      "Apple\n",
      "Mango\n",
      "Strawberry\n",
      "Banana\n",
      "Malta\n"
     ]
    }
   ],
   "source": [
    "fruits = ['Apple','Mango','Strawberry','Banana','Malta']\n",
    "for x in fruits:\n",
    "    print(x)"
   ]
  },
  {
   "cell_type": "code",
   "execution_count": 8,
   "id": "8addcec0-5d9e-47f2-9d85-612a63efac0e",
   "metadata": {},
   "outputs": [
    {
     "name": "stdout",
     "output_type": "stream",
     "text": [
      "-100\n",
      "-99\n",
      "-98\n",
      "-97\n",
      "-96\n",
      "-95\n",
      "-94\n",
      "-93\n",
      "-92\n",
      "-91\n",
      "-90\n",
      "-89\n",
      "-88\n",
      "-87\n",
      "-86\n",
      "-85\n",
      "-84\n",
      "-83\n",
      "-82\n",
      "-81\n",
      "-80\n",
      "-79\n",
      "-78\n",
      "-77\n",
      "-76\n",
      "-75\n",
      "-74\n",
      "-73\n",
      "-72\n",
      "-71\n",
      "-70\n",
      "-69\n",
      "-68\n",
      "-67\n",
      "-66\n",
      "-65\n",
      "-64\n",
      "-63\n",
      "-62\n",
      "-61\n",
      "-60\n",
      "-59\n",
      "-58\n",
      "-57\n",
      "-56\n",
      "-55\n",
      "-54\n",
      "-53\n",
      "-52\n",
      "-51\n",
      "-50\n",
      "-49\n",
      "-48\n",
      "-47\n",
      "-46\n",
      "-45\n",
      "-44\n",
      "-43\n",
      "-42\n",
      "-41\n",
      "-40\n",
      "-39\n",
      "-38\n",
      "-37\n",
      "-36\n",
      "-35\n",
      "-34\n",
      "-33\n",
      "-32\n",
      "-31\n",
      "-30\n",
      "-29\n",
      "-28\n",
      "-27\n",
      "-26\n",
      "-25\n",
      "-24\n",
      "-23\n",
      "-22\n",
      "-21\n",
      "-20\n",
      "-19\n",
      "-18\n",
      "-17\n",
      "-16\n",
      "-15\n",
      "-14\n",
      "-13\n",
      "-12\n",
      "-11\n",
      "-10\n"
     ]
    }
   ],
   "source": [
    "for x in range(-100,-9):\n",
    "    print(x)"
   ]
  },
  {
   "cell_type": "code",
   "execution_count": 10,
   "id": "1c20dafb-ddcc-469d-a7ab-a806f2a65408",
   "metadata": {},
   "outputs": [],
   "source": [
    "data = 'python'"
   ]
  },
  {
   "cell_type": "code",
   "execution_count": 14,
   "id": "000c30b1-088a-44a7-b37d-07fd307d0697",
   "metadata": {},
   "outputs": [
    {
     "name": "stdout",
     "output_type": "stream",
     "text": [
      "p\n",
      "y\n",
      "t\n",
      "h\n",
      "o\n",
      "n\n"
     ]
    }
   ],
   "source": [
    "for x in range(len(data)):\n",
    "    print(data[x])"
   ]
  },
  {
   "cell_type": "code",
   "execution_count": 20,
   "id": "3b440c92-afcd-4a20-9cf7-4defcfa2a028",
   "metadata": {},
   "outputs": [
    {
     "name": "stdout",
     "output_type": "stream",
     "text": [
      "['I', 'love', 'to', 'play', 'football', 'in', 'the', 'morning']\n"
     ]
    }
   ],
   "source": [
    "sentance = 'I love to play football in the morning'\n",
    "sentance = sentance.split()\n",
    "print(sentance)"
   ]
  },
  {
   "cell_type": "code",
   "execution_count": 24,
   "id": "eaee821c-f4a9-4baf-965f-9544dfca8190",
   "metadata": {},
   "outputs": [
    {
     "name": "stdout",
     "output_type": "stream",
     "text": [
      "I 0\n",
      "love 1\n",
      "to 2\n",
      "play 3\n",
      "football 4\n",
      "in 5\n",
      "the 6\n",
      "morning 7\n"
     ]
    }
   ],
   "source": [
    "for x in range(len(sentance)):\n",
    "    print(sentance[x],x)"
   ]
  },
  {
   "cell_type": "code",
   "execution_count": 26,
   "id": "36fd4a32-2b79-45e0-86cd-2d7628e9e620",
   "metadata": {},
   "outputs": [
    {
     "name": "stdout",
     "output_type": "stream",
     "text": [
      "26\n"
     ]
    }
   ],
   "source": [
    "nums = [5,4,3,2,1,5,6,]\n",
    "total = 0;\n",
    "for x in nums:\n",
    "    total = total + x\n",
    "print(total)"
   ]
  },
  {
   "cell_type": "code",
   "execution_count": 65,
   "id": "0937f363-7ec2-49c0-9179-855beccbb931",
   "metadata": {},
   "outputs": [],
   "source": [
    "sam = 5\n",
    "result = 1;\n",
    "for x in range(5,0,-1):\n",
    "         result = 5*(x - 1)\n"
   ]
  },
  {
   "cell_type": "code",
   "execution_count": null,
   "id": "ffffe71b-141e-4340-861a-f0a50233ad91",
   "metadata": {},
   "outputs": [],
   "source": []
  }
 ],
 "metadata": {
  "kernelspec": {
   "display_name": "Python [conda env:base] *",
   "language": "python",
   "name": "conda-base-py"
  },
  "language_info": {
   "codemirror_mode": {
    "name": "ipython",
    "version": 3
   },
   "file_extension": ".py",
   "mimetype": "text/x-python",
   "name": "python",
   "nbconvert_exporter": "python",
   "pygments_lexer": "ipython3",
   "version": "3.12.7"
  }
 },
 "nbformat": 4,
 "nbformat_minor": 5
}
